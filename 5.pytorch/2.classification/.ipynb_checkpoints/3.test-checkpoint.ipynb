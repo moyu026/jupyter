{
 "cells": [
  {
   "cell_type": "markdown",
   "id": "ae2b43d7",
   "metadata": {},
   "source": [
    "#### 使用修改后模型预测\n",
    "- 要修改网络结构与加载的模型一致"
   ]
  },
  {
   "cell_type": "code",
   "execution_count": null,
   "id": "d207dcc1",
   "metadata": {},
   "outputs": [],
   "source": [
    "# 定义网络模型\n",
    "model = vit_b_16(weights=None)\n",
    "in_channel = model.heads.head.in_features\n",
    "model.heads.head = nn.Linear(in_channel, 5)"
   ]
  },
  {
   "cell_type": "code",
   "execution_count": null,
   "id": "bd748a95",
   "metadata": {},
   "outputs": [],
   "source": [
    "# 加载训练好的权重\n",
    "weights_path = \"resNet34.pth\"\n",
    "model.load_state_dict(torch.load(weights_path, map_location=device))"
   ]
  },
  {
   "cell_type": "code",
   "execution_count": null,
   "id": "a9847076",
   "metadata": {},
   "outputs": [],
   "source": [
    "# 使用预测模型\n",
    "model.eval()\n",
    "output = torch.squeeze(model(img.to(device))).cpu()"
   ]
  }
 ],
 "metadata": {
  "kernelspec": {
   "display_name": "Python 3 (ipykernel)",
   "language": "python",
   "name": "python3"
  },
  "language_info": {
   "codemirror_mode": {
    "name": "ipython",
    "version": 3
   },
   "file_extension": ".py",
   "mimetype": "text/x-python",
   "name": "python",
   "nbconvert_exporter": "python",
   "pygments_lexer": "ipython3",
   "version": "3.8.16"
  }
 },
 "nbformat": 4,
 "nbformat_minor": 5
}

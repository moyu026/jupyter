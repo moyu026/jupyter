{
 "cells": [
  {
   "cell_type": "markdown",
   "id": "35026e38",
   "metadata": {},
   "source": [
    "## 一、张量的属性"
   ]
  },
  {
   "cell_type": "code",
   "execution_count": 7,
   "id": "c3b8d7db",
   "metadata": {},
   "outputs": [],
   "source": [
    "import torch\n",
    "import numpy as np"
   ]
  },
  {
   "cell_type": "code",
   "execution_count": 3,
   "id": "a544cbaa",
   "metadata": {},
   "outputs": [
    {
     "data": {
      "text/plain": [
       "torch.Tensor"
      ]
     },
     "execution_count": 3,
     "metadata": {},
     "output_type": "execute_result"
    }
   ],
   "source": [
    "t = torch.Tensor()\n",
    "type(t)"
   ]
  },
  {
   "cell_type": "markdown",
   "id": "67ce970c",
   "metadata": {},
   "source": [
    "### 张量的数据类型"
   ]
  },
  {
   "cell_type": "code",
   "execution_count": 4,
   "id": "06f8d645",
   "metadata": {},
   "outputs": [
    {
     "data": {
      "text/plain": [
       "torch.float32"
      ]
     },
     "execution_count": 4,
     "metadata": {},
     "output_type": "execute_result"
    }
   ],
   "source": [
    "t.dtype  # 张量的数据类型"
   ]
  },
  {
   "cell_type": "markdown",
   "id": "6620086b",
   "metadata": {},
   "source": [
    "### 张量的设备"
   ]
  },
  {
   "cell_type": "code",
   "execution_count": 5,
   "id": "51443bad",
   "metadata": {},
   "outputs": [
    {
     "data": {
      "text/plain": [
       "device(type='cpu')"
      ]
     },
     "execution_count": 5,
     "metadata": {},
     "output_type": "execute_result"
    }
   ],
   "source": [
    "t.device"
   ]
  },
  {
   "cell_type": "markdown",
   "id": "acf7dbb6",
   "metadata": {},
   "source": [
    "### 张量在内存中的存储方式"
   ]
  },
  {
   "cell_type": "code",
   "execution_count": 6,
   "id": "d0034bca",
   "metadata": {},
   "outputs": [
    {
     "data": {
      "text/plain": [
       "torch.strided"
      ]
     },
     "execution_count": 6,
     "metadata": {},
     "output_type": "execute_result"
    }
   ],
   "source": [
    "t.layout"
   ]
  },
  {
   "cell_type": "markdown",
   "id": "cd0b3665",
   "metadata": {},
   "source": [
    "## 二、使用数据创建张量"
   ]
  },
  {
   "cell_type": "code",
   "execution_count": 8,
   "id": "d9e6f3ce",
   "metadata": {},
   "outputs": [
    {
     "data": {
      "text/plain": [
       "numpy.ndarray"
      ]
     },
     "execution_count": 8,
     "metadata": {},
     "output_type": "execute_result"
    }
   ],
   "source": [
    "data = np.array([1,2,3])  # data的数据类型是numpy.ndarray\n",
    "type(data)"
   ]
  },
  {
   "cell_type": "code",
   "execution_count": 11,
   "id": "f668ea41",
   "metadata": {},
   "outputs": [
    {
     "name": "stdout",
     "output_type": "stream",
     "text": [
      "tensor([1., 2., 3.])\n",
      "tensor([1, 2, 3], dtype=torch.int32)\n",
      "tensor([1, 2, 3], dtype=torch.int32)\n",
      "tensor([1, 2, 3], dtype=torch.int32)\n",
      "torch.float32\n",
      "torch.int32\n",
      "torch.int32\n",
      "torch.int32\n"
     ]
    }
   ],
   "source": [
    "o1 = torch.Tensor(data)\n",
    "o2 = torch.tensor(data)\n",
    "o3 = torch.as_tensor(data)\n",
    "o4 = torch.from_numpy(data)\n",
    "\n",
    "print(o1)  \n",
    "print(o2)\n",
    "print(o3)\n",
    "print(o4)\n",
    "\n",
    "# o1数字后面有圆点，表示是浮点数，其余的类型是int32\n",
    "print(o1.dtype)\n",
    "print(o2.dtype)\n",
    "print(o3.dtype)\n",
    "print(o4.dtype)"
   ]
  },
  {
   "cell_type": "markdown",
   "id": "3fe44d64",
   "metadata": {},
   "source": [
    "### 用dtype参数指定生成tensor的类型"
   ]
  },
  {
   "cell_type": "code",
   "execution_count": 14,
   "id": "22a836c5",
   "metadata": {},
   "outputs": [
    {
     "name": "stdout",
     "output_type": "stream",
     "text": [
      "tensor([1., 2., 3.])\n",
      "tensor([1., 2., 3.])\n",
      "torch.float32\n",
      "torch.float32\n"
     ]
    }
   ],
   "source": [
    "t1 = torch.tensor(data, dtype=torch.float32)\n",
    "t2 = torch.as_tensor(data, dtype=torch.float32)\n",
    "\n",
    "print(t1)\n",
    "print(t2)\n",
    "print(t1.dtype)\n",
    "print(t2.dtype)"
   ]
  },
  {
   "cell_type": "markdown",
   "id": "b78433da",
   "metadata": {},
   "source": [
    "### 数据的复制与共享内存"
   ]
  },
  {
   "cell_type": "code",
   "execution_count": 15,
   "id": "30c377de",
   "metadata": {},
   "outputs": [
    {
     "name": "stdout",
     "output_type": "stream",
     "text": [
      "old: [1 2 3]\n"
     ]
    }
   ],
   "source": [
    "print('old:', data)"
   ]
  },
  {
   "cell_type": "code",
   "execution_count": 16,
   "id": "dbf2ea8d",
   "metadata": {},
   "outputs": [],
   "source": [
    "# 修改原始数据中的值\n",
    "data[0] = 0   "
   ]
  },
  {
   "cell_type": "code",
   "execution_count": 17,
   "id": "1f9199a7",
   "metadata": {},
   "outputs": [
    {
     "name": "stdout",
     "output_type": "stream",
     "text": [
      "new: [0 2 3]\n"
     ]
    }
   ],
   "source": [
    "print('new:', data)"
   ]
  },
  {
   "cell_type": "code",
   "execution_count": 18,
   "id": "cf5b9f0c",
   "metadata": {},
   "outputs": [
    {
     "name": "stdout",
     "output_type": "stream",
     "text": [
      "tensor([1., 2., 3.])\n",
      "tensor([1, 2, 3], dtype=torch.int32)\n",
      "tensor([0, 2, 3], dtype=torch.int32)\n",
      "tensor([0, 2, 3], dtype=torch.int32)\n"
     ]
    }
   ],
   "source": [
    "# 查看修改原始数据的值对生成的tensor是否有影响\n",
    "# 其中o1,o2没有发生改变，说明这两种方式创建的tensor是复制了原数据\n",
    "# 其中o3,o4发生改变，说明这两种方式创建的tensor与原数据共享内存\n",
    "\n",
    "print(o1)  \n",
    "print(o2)\n",
    "print(o3)\n",
    "print(o4)"
   ]
  },
  {
   "cell_type": "markdown",
   "id": "92e48150",
   "metadata": {},
   "source": [
    "### 把已有的tensor类型转为numpy类型"
   ]
  },
  {
   "cell_type": "code",
   "execution_count": 19,
   "id": "499a5ffb",
   "metadata": {},
   "outputs": [
    {
     "name": "stdout",
     "output_type": "stream",
     "text": [
      "[0 2 3]\n",
      "[0 2 3]\n"
     ]
    }
   ],
   "source": [
    "print(o3.numpy())\n",
    "print(o4.numpy())"
   ]
  },
  {
   "cell_type": "code",
   "execution_count": 20,
   "id": "58f7161e",
   "metadata": {},
   "outputs": [
    {
     "name": "stdout",
     "output_type": "stream",
     "text": [
      "<class 'numpy.ndarray'>\n",
      "<class 'numpy.ndarray'>\n"
     ]
    }
   ],
   "source": [
    "print(type(o3.numpy()))\n",
    "print(type(o4.numpy()))"
   ]
  },
  {
   "cell_type": "markdown",
   "id": "96be3198",
   "metadata": {},
   "source": [
    "## 三、reshape\n",
    "### reshape()函数和view()函数功能相同"
   ]
  },
  {
   "cell_type": "code",
   "execution_count": 21,
   "id": "22e10477",
   "metadata": {},
   "outputs": [],
   "source": [
    "t = torch.tensor([\n",
    "    [1,1,1,1],\n",
    "    [2,2,2,2],\n",
    "    [3,3,3,3]\n",
    "], dtype=torch.float32)"
   ]
  },
  {
   "cell_type": "code",
   "execution_count": 22,
   "id": "c326868f",
   "metadata": {},
   "outputs": [
    {
     "data": {
      "text/plain": [
       "torch.Size([3, 4])"
      ]
     },
     "execution_count": 22,
     "metadata": {},
     "output_type": "execute_result"
    }
   ],
   "source": [
    "t.size()  # 获取tensor形状"
   ]
  },
  {
   "cell_type": "code",
   "execution_count": 24,
   "id": "d3cb2c5f",
   "metadata": {},
   "outputs": [
    {
     "data": {
      "text/plain": [
       "torch.Size([3, 4])"
      ]
     },
     "execution_count": 24,
     "metadata": {},
     "output_type": "execute_result"
    }
   ],
   "source": [
    "t.shape   # 获取tensor形状"
   ]
  },
  {
   "cell_type": "markdown",
   "id": "b8a3a652",
   "metadata": {},
   "source": [
    "### 查看tensor中元素的数量"
   ]
  },
  {
   "cell_type": "code",
   "execution_count": 25,
   "id": "d1ab16ea",
   "metadata": {},
   "outputs": [
    {
     "data": {
      "text/plain": [
       "12"
      ]
     },
     "execution_count": 25,
     "metadata": {},
     "output_type": "execute_result"
    }
   ],
   "source": [
    "t.numel()"
   ]
  },
  {
   "cell_type": "markdown",
   "id": "820b366a",
   "metadata": {},
   "source": [
    "### 不改变阶的reshape"
   ]
  },
  {
   "cell_type": "code",
   "execution_count": 26,
   "id": "0f485d52",
   "metadata": {},
   "outputs": [
    {
     "data": {
      "text/plain": [
       "tensor([[1., 1., 1., 1., 2., 2., 2., 2., 3., 3., 3., 3.]])"
      ]
     },
     "execution_count": 26,
     "metadata": {},
     "output_type": "execute_result"
    }
   ],
   "source": [
    "t.reshape([1,12])"
   ]
  },
  {
   "cell_type": "code",
   "execution_count": 27,
   "id": "615e5d5b",
   "metadata": {},
   "outputs": [
    {
     "data": {
      "text/plain": [
       "tensor([[1., 1., 1., 1., 2., 2.],\n",
       "        [2., 2., 3., 3., 3., 3.]])"
      ]
     },
     "execution_count": 27,
     "metadata": {},
     "output_type": "execute_result"
    }
   ],
   "source": [
    "t.reshape([2,6])"
   ]
  },
  {
   "cell_type": "code",
   "execution_count": 28,
   "id": "919e0b66",
   "metadata": {},
   "outputs": [
    {
     "data": {
      "text/plain": [
       "tensor([[1., 1., 1., 1.],\n",
       "        [2., 2., 2., 2.],\n",
       "        [3., 3., 3., 3.]])"
      ]
     },
     "execution_count": 28,
     "metadata": {},
     "output_type": "execute_result"
    }
   ],
   "source": [
    "t.reshape([3,4])"
   ]
  },
  {
   "cell_type": "code",
   "execution_count": 29,
   "id": "595a08ad",
   "metadata": {},
   "outputs": [
    {
     "data": {
      "text/plain": [
       "tensor([[1., 1., 1.],\n",
       "        [1., 2., 2.],\n",
       "        [2., 2., 3.],\n",
       "        [3., 3., 3.]])"
      ]
     },
     "execution_count": 29,
     "metadata": {},
     "output_type": "execute_result"
    }
   ],
   "source": [
    "t.reshape([4,3])"
   ]
  },
  {
   "cell_type": "code",
   "execution_count": 30,
   "id": "d27c2e93",
   "metadata": {},
   "outputs": [
    {
     "data": {
      "text/plain": [
       "tensor([[1., 1.],\n",
       "        [1., 1.],\n",
       "        [2., 2.],\n",
       "        [2., 2.],\n",
       "        [3., 3.],\n",
       "        [3., 3.]])"
      ]
     },
     "execution_count": 30,
     "metadata": {},
     "output_type": "execute_result"
    }
   ],
   "source": [
    "t.reshape(6,2)"
   ]
  },
  {
   "cell_type": "markdown",
   "id": "af931d0e",
   "metadata": {},
   "source": [
    "### 改变阶的reshape"
   ]
  },
  {
   "cell_type": "code",
   "execution_count": 31,
   "id": "ee123ddb",
   "metadata": {},
   "outputs": [
    {
     "data": {
      "text/plain": [
       "tensor([[[1., 1., 1.],\n",
       "         [1., 2., 2.]],\n",
       "\n",
       "        [[2., 2., 3.],\n",
       "         [3., 3., 3.]]])"
      ]
     },
     "execution_count": 31,
     "metadata": {},
     "output_type": "execute_result"
    }
   ],
   "source": [
    "t.reshape(2,2,3)"
   ]
  },
  {
   "cell_type": "code",
   "execution_count": 32,
   "id": "96e446be",
   "metadata": {},
   "outputs": [
    {
     "data": {
      "text/plain": [
       "tensor([[[1., 1., 1.],\n",
       "         [1., 2., 2.]],\n",
       "\n",
       "        [[2., 2., 3.],\n",
       "         [3., 3., 3.]]])"
      ]
     },
     "execution_count": 32,
     "metadata": {},
     "output_type": "execute_result"
    }
   ],
   "source": [
    "t.reshape(2,2,-1)"
   ]
  },
  {
   "cell_type": "code",
   "execution_count": null,
   "id": "dda201ff",
   "metadata": {},
   "outputs": [],
   "source": []
  }
 ],
 "metadata": {
  "kernelspec": {
   "display_name": "Python 3 (ipykernel)",
   "language": "python",
   "name": "python3"
  },
  "language_info": {
   "codemirror_mode": {
    "name": "ipython",
    "version": 3
   },
   "file_extension": ".py",
   "mimetype": "text/x-python",
   "name": "python",
   "nbconvert_exporter": "python",
   "pygments_lexer": "ipython3",
   "version": "3.8.16"
  }
 },
 "nbformat": 4,
 "nbformat_minor": 5
}

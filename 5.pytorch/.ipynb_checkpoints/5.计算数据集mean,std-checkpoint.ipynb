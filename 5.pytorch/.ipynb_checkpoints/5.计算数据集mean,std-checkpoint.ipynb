{
 "cells": [
  {
   "cell_type": "code",
   "execution_count": null,
   "id": "b8b8bdbd",
   "metadata": {},
   "outputs": [],
   "source": [
    "import os\n",
    "from PIL import Image\n",
    "import numpy as np\n",
    "import tqdm\n",
    "\n",
    "def main(path):\n",
    "    # 数据集通道数\n",
    "    img_channels = 3\n",
    "    img_names = os.listdir(path)\n",
    "    cumulative_mean = np.zeros(img_channels)\n",
    "    cumulative_std = np.zeros(img_channels)\n",
    "\n",
    "    for img_name in tqdm.tqdm(img_names, total=len(img_names)):\n",
    "        img_path = os.path.join(path, img_name)\n",
    "        img = np.array(Image.open(img_path)) / 255.\n",
    "        # 对每个维度进行统计，Image.open打开的是HWC格式，最后一维是通道数\n",
    "        for d in range(3):\n",
    "            cumulative_mean[d] += img[:, :, d].mean()\n",
    "            cumulative_std[d] += img[:, :, d].std()\n",
    "\n",
    "    mean = cumulative_mean / len(img_names)\n",
    "    std = cumulative_std / len(img_names)\n",
    "    print(f\"mean: {mean}\")\n",
    "    print(f\"std: {std}\")\n",
    "\n",
    "if __name__ == '__main__':\n",
    "    main(r\"F:\\PythonWork\\0.other\\label_test\\0data\\img\")"
   ]
  }
 ],
 "metadata": {
  "kernelspec": {
   "display_name": "Python 3 (ipykernel)",
   "language": "python",
   "name": "python3"
  },
  "language_info": {
   "codemirror_mode": {
    "name": "ipython",
    "version": 3
   },
   "file_extension": ".py",
   "mimetype": "text/x-python",
   "name": "python",
   "nbconvert_exporter": "python",
   "pygments_lexer": "ipython3",
   "version": "3.8.16"
  }
 },
 "nbformat": 4,
 "nbformat_minor": 5
}

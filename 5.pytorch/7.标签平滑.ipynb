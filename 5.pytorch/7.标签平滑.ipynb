{
 "cells": [
  {
   "cell_type": "markdown",
   "id": "e172eed8",
   "metadata": {},
   "source": [
    "使用了Label Smoothing损失函数后，在训练阶段预测正确时 loss 不会下降得太快\n",
    "预测错误的時候 loss 不会惩罚得太多，使其不容易陷入局部最优点，这在一定程度可以抑制网络过拟合的现象。"
   ]
  },
  {
   "cell_type": "code",
   "execution_count": null,
   "id": "ccd81834",
   "metadata": {},
   "outputs": [],
   "source": [
    "loss_function = nn.CrossEntropyLoss(label_smoothing=0.1)"
   ]
  },
  {
   "cell_type": "markdown",
   "id": "99e02ea9",
   "metadata": {},
   "source": [
    "#### 自定义使用标签平滑的CrossEntropyLoss方法"
   ]
  },
  {
   "cell_type": "code",
   "execution_count": null,
   "id": "f984e45c",
   "metadata": {},
   "outputs": [],
   "source": [
    "import torch\n",
    "import torch.nn as nn\n",
    "import torch.nn.functional as F\n",
    "\n",
    "class LabelSmoothingCrossEntropy(nn.Module):\n",
    "    def __init__(self, smoothing=0.0):\n",
    "        super(LabelSmoothingCrossEntropy, self).__init__()\n",
    "        self.smoothing = smoothing\n",
    "\n",
    "    def forward(self, input, target):\n",
    "        log_prob = F.log_softmax(input, dim=-1)\n",
    "        nll_loss = -log_prob.gather(dim=-1, index=target.unsqueeze(-1))\n",
    "        nll_loss = nll_loss.squeeze(-1)\n",
    "        smooth_loss = -log_prob.mean(dim=-1)\n",
    "        loss = (1.0 - self.smoothing) * nll_loss + self.smoothing * smooth_loss\n",
    "        return loss.mean()\n",
    "\n",
    "# 示例用法\n",
    "loss_function = LabelSmoothingCrossEntropy(smoothing=0.1)\n"
   ]
  },
  {
   "cell_type": "markdown",
   "id": "169443dc",
   "metadata": {},
   "source": [
    "![jupyter](./file/loss.png)"
   ]
  },
  {
   "cell_type": "markdown",
   "id": "cdb22a54",
   "metadata": {},
   "source": [
    "![jupyter](./file/acc.png)"
   ]
  },
  {
   "cell_type": "code",
   "execution_count": null,
   "id": "b08aa1b5",
   "metadata": {},
   "outputs": [],
   "source": []
  }
 ],
 "metadata": {
  "kernelspec": {
   "display_name": "Python 3 (ipykernel)",
   "language": "python",
   "name": "python3"
  },
  "language_info": {
   "codemirror_mode": {
    "name": "ipython",
    "version": 3
   },
   "file_extension": ".py",
   "mimetype": "text/x-python",
   "name": "python",
   "nbconvert_exporter": "python",
   "pygments_lexer": "ipython3",
   "version": "3.8.16"
  }
 },
 "nbformat": 4,
 "nbformat_minor": 5
}

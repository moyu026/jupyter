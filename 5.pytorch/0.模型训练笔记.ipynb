{
 "cells": [
  {
   "cell_type": "markdown",
   "id": "adfea669",
   "metadata": {},
   "source": [
    "1. 在测试时图像的transform与训练保持一致\n",
    "2. 使用模型预测时，需使用model.eval()禁用网络中的BN层和dropout层\n",
    "3. yolov5中不安装albumentations则不使用该部分的数据增强，安装后使用"
   ]
  }
 ],
 "metadata": {
  "kernelspec": {
   "display_name": "Python 3 (ipykernel)",
   "language": "python",
   "name": "python3"
  },
  "language_info": {
   "codemirror_mode": {
    "name": "ipython",
    "version": 3
   },
   "file_extension": ".py",
   "mimetype": "text/x-python",
   "name": "python",
   "nbconvert_exporter": "python",
   "pygments_lexer": "ipython3",
   "version": "3.8.16"
  }
 },
 "nbformat": 4,
 "nbformat_minor": 5
}

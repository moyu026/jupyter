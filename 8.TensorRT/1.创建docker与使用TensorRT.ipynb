{
 "cells": [
  {
   "cell_type": "markdown",
   "id": "62977644",
   "metadata": {},
   "source": [
    "## 1.创建docker，这个镜像中自带tensorrt环境\n",
    "### -  sudo docker run --name=liu --gpus all -t -p 8888:8888 -v /home/yuzhenchen:/workspace nvcr.io/nvidia/pytorch:23.03-py3"
   ]
  },
  {
   "cell_type": "markdown",
   "id": "8a57f7e4",
   "metadata": {},
   "source": [
    "- https://catalog.ngc.nvidia.com/orgs/nvidia/containers/pytorch"
   ]
  },
  {
   "cell_type": "markdown",
   "id": "acea0870",
   "metadata": {},
   "source": [
    "## `nvcr.io/nvidia/pytorch`"
   ]
  },
  {
   "cell_type": "markdown",
   "id": "160988e3",
   "metadata": {
    "ExecuteTime": {
     "end_time": "2023-08-26T12:15:38.969693Z",
     "start_time": "2023-08-26T12:15:38.949879Z"
    }
   },
   "source": [
    "- `docker run -it --gpus=all --rm nvcr.io/nvidia/pytorch nvidia-smi`\n",
    "    - 默认会去找 latest 的 tag，\n",
    "    - 如果想指定版本 `docker run -it --gpus=all --rm nvcr.io/nvidia/pytorch:23.03-py3 nvidia-smi`\n",
    "    - 指定 gpu id\n",
    "        - `docker run -it --gpus=\"1\" --rm nvcr.io/nvidia/pytorch:23.03-py3 nvidia-smi`\n",
    "    - `-p 8888:8888`\n",
    "        - 端口号映射，主机(宿主)端口:容器端口\n",
    "    - `-v $PWD:/workspace`\n",
    "        - 磁盘映射，volume\n",
    "        - 这个 docker 镜像进去之后默认的路径就是 `~/workspace`\n",
    "    - `--rm`:\n",
    "        - 这个命令启动之后，会给这个 image（镜像）创建一个容器实例（container instance）\n",
    "        - exit 后删除该启动的 container；"
   ]
  },
  {
   "cell_type": "markdown",
   "id": "d71619e6",
   "metadata": {},
   "source": [
    "## 容器的 stop/start"
   ]
  },
  {
   "cell_type": "markdown",
   "id": "c8e546b5",
   "metadata": {},
   "source": [
    "### run vs. start"
   ]
  },
  {
   "cell_type": "markdown",
   "id": "26021831",
   "metadata": {},
   "source": [
    "- run: create a new container of an image, and execute the container. \n",
    "    - docker run 的对象是 image id，而不是 container id\n",
    "- start: Launch a **container** previously stopped. "
   ]
  },
  {
   "cell_type": "markdown",
   "id": "7c000dc7",
   "metadata": {},
   "source": [
    "### stop/start/exec"
   ]
  },
  {
   "cell_type": "markdown",
   "id": "f6a19ec5",
   "metadata": {},
   "source": [
    "- `docker stop $CONTAINER_ID`\n",
    "- `docker start $CONTAINER_ID`\n",
    "- `docker exec -it $CONTAINER_ID bash`\n",
    "- `docker rm $CONTAINER_ID`"
   ]
  },
  {
   "cell_type": "markdown",
   "id": "2ced9d1e",
   "metadata": {},
   "source": [
    "## `-p` 与 `ssh`（终端机与server）"
   ]
  },
  {
   "cell_type": "markdown",
   "id": "9fad4893",
   "metadata": {},
   "source": [
    "- `-p` 主机(宿主)端口:容器端口\n",
    "    - `-p 8887:8888`\n",
    "- `ssh -L`\n",
    "    - `ssl -L 8886:localhost:8887 server`"
   ]
  },
  {
   "cell_type": "markdown",
   "id": "9a2424a2",
   "metadata": {},
   "source": [
    "## 2.TensorRT(yolov5的特detect为例)\n",
    "- tensorrt的GitHub：https://github.com/wang-xinyu/tensorrtx/tree/master/yolov5"
   ]
  },
  {
   "cell_type": "markdown",
   "id": "753364ce",
   "metadata": {},
   "source": [
    "### `需要在yolov5文件下编译，会用到该文件下的c++文件，如果在别处运行tensorrt，需要复制yolov5的文件夹，从头生成文件再编译，重新生成libmyplugins.so文件`"
   ]
  },
  {
   "cell_type": "markdown",
   "id": "d115d9a5",
   "metadata": {},
   "source": [
    "### 生成模型之前要修改yolov5/src/config.h中的18行：类别数=自己的类别数"
   ]
  },
  {
   "cell_type": "markdown",
   "id": "9d774a80",
   "metadata": {},
   "source": [
    "- 使用gen_wts.py文件生成wts格式的模型\n",
    "    - python gen_wts.py -w yolov5s.pt -o yolov5s.wts  # -w:输入pt模型路径， -o：输出wts模型路径\n",
    "- 新建build文件夹，把上一步生成的wts模型复制到build文件夹中,然后编译\n",
    "    - mkdir build && cd build\n",
    "    - cp path/yolov5s.wts . \n",
    "    - cmake ..\n",
    "    - make\n",
    "- 使用生成的yolov5_det来生成engine模型\n",
    "    - ./yolov5_det -s yolov5s.wts yolov5s.engine s  # 最后的s表示使用的s级v5模型，如果是v5m则把s要换成m\n",
    "- 使用生成的engine模型测试\n",
    "    - ./yolov5_det -d yolov5s.engine ../images\n",
    "- 在python中使用engine模型检测\n",
    "    - python yolov5_det_trt.py  # yolov5_det_trt_cuda_python.py文件会报错：超出索引\n",
    "    "
   ]
  },
  {
   "cell_type": "code",
   "execution_count": null,
   "id": "8f876127",
   "metadata": {},
   "outputs": [],
   "source": []
  }
 ],
 "metadata": {
  "kernelspec": {
   "display_name": "Python 3 (ipykernel)",
   "language": "python",
   "name": "python3"
  },
  "language_info": {
   "codemirror_mode": {
    "name": "ipython",
    "version": 3
   },
   "file_extension": ".py",
   "mimetype": "text/x-python",
   "name": "python",
   "nbconvert_exporter": "python",
   "pygments_lexer": "ipython3",
   "version": "3.8.16"
  },
  "toc": {
   "base_numbering": 1,
   "nav_menu": {},
   "number_sections": true,
   "sideBar": true,
   "skip_h1_title": false,
   "title_cell": "Table of Contents",
   "title_sidebar": "Contents",
   "toc_cell": false,
   "toc_position": {
    "height": "calc(100% - 180px)",
    "left": "10px",
    "top": "150px",
    "width": "336px"
   },
   "toc_section_display": true,
   "toc_window_display": true
  }
 },
 "nbformat": 4,
 "nbformat_minor": 5
}

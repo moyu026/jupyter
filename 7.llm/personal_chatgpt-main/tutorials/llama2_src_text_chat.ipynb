{
 "cells": [
  {
   "cell_type": "markdown",
   "id": "36cfc8b2",
   "metadata": {},
   "source": [
    "## outline"
   ]
  },
  {
   "cell_type": "markdown",
   "id": "85623acf",
   "metadata": {},
   "source": [
    "- 两者底层调的都是\n",
    "    - `Llama` 类对象的模型结构显然是一致的；\n",
    "        ```\n",
    "        tokenizer = Tokenizer(model_path=tokenizer_path)\n",
    "        model = Transformer(model_args)\n",
    "        model.load_state_dict(checkpoint, strict=False)\n",
    "        llama = Llama(model, tokenizer)\n",
    "        ```\n",
    "    - `Llama.generate(prompt_tokens, max_gen_len, ...)`\n",
    "- 差异\n",
    "    - model weights 不同；\n",
    "    - prompt_tokens 的组织不同"
   ]
  }
 ],
 "metadata": {
  "kernelspec": {
   "display_name": "Python 3 (ipykernel)",
   "language": "python",
   "name": "python3"
  },
  "language_info": {
   "codemirror_mode": {
    "name": "ipython",
    "version": 3
   },
   "file_extension": ".py",
   "mimetype": "text/x-python",
   "name": "python",
   "nbconvert_exporter": "python",
   "pygments_lexer": "ipython3",
   "version": "3.10.13"
  },
  "toc": {
   "base_numbering": 1,
   "nav_menu": {},
   "number_sections": true,
   "sideBar": true,
   "skip_h1_title": false,
   "title_cell": "Table of Contents",
   "title_sidebar": "Contents",
   "toc_cell": false,
   "toc_position": {},
   "toc_section_display": true,
   "toc_window_display": false
  }
 },
 "nbformat": 4,
 "nbformat_minor": 5
}

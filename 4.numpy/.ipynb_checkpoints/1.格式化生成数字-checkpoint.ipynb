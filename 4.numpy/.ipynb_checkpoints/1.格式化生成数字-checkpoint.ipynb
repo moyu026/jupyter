{
 "cells": [
  {
   "cell_type": "markdown",
   "id": "2eb083d2",
   "metadata": {},
   "source": [
    "### 1.按指定步长生成数字，并使用格式化输出"
   ]
  },
  {
   "cell_type": "code",
   "execution_count": 1,
   "id": "9f876ea2",
   "metadata": {},
   "outputs": [],
   "source": [
    "import numpy as np"
   ]
  },
  {
   "cell_type": "code",
   "execution_count": 2,
   "id": "74058c19",
   "metadata": {},
   "outputs": [],
   "source": [
    "numbers = np.arange(0, 2, 0.1)  # 指定生成的范围和步长"
   ]
  },
  {
   "cell_type": "code",
   "execution_count": 3,
   "id": "da2fbae6",
   "metadata": {},
   "outputs": [
    {
     "name": "stdout",
     "output_type": "stream",
     "text": [
      "img/00.00.png\n",
      "img/00.10.png\n",
      "img/00.20.png\n",
      "img/00.30.png\n",
      "img/00.40.png\n",
      "img/00.50.png\n",
      "img/00.60.png\n",
      "img/00.70.png\n",
      "img/00.80.png\n",
      "img/00.90.png\n",
      "img/01.00.png\n",
      "img/01.10.png\n",
      "img/01.20.png\n",
      "img/01.30.png\n",
      "img/01.40.png\n",
      "img/01.50.png\n",
      "img/01.60.png\n",
      "img/01.70.png\n",
      "img/01.80.png\n",
      "img/01.90.png\n"
     ]
    }
   ],
   "source": [
    "for num in numbers:\n",
    "    # 格式化输出\n",
    "    text_to_display = \"{:05.2f}\".format(num)  # 05表示一共占5个字节，.2f表示保留两位小数\n",
    "    image_name = f'img/{text_to_display}.png' # 格式化输出image_name\n",
    "    print(image_name)"
   ]
  },
  {
   "cell_type": "code",
   "execution_count": null,
   "id": "f05e4ba7",
   "metadata": {},
   "outputs": [],
   "source": []
  }
 ],
 "metadata": {
  "kernelspec": {
   "display_name": "Python 3 (ipykernel)",
   "language": "python",
   "name": "python3"
  },
  "language_info": {
   "codemirror_mode": {
    "name": "ipython",
    "version": 3
   },
   "file_extension": ".py",
   "mimetype": "text/x-python",
   "name": "python",
   "nbconvert_exporter": "python",
   "pygments_lexer": "ipython3",
   "version": "3.8.16"
  }
 },
 "nbformat": 4,
 "nbformat_minor": 5
}

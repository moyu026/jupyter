{
 "cells": [
  {
   "cell_type": "code",
   "execution_count": 3,
   "id": "2371e70c",
   "metadata": {},
   "outputs": [],
   "source": [
    "from ultralytics import YOLO\n",
    "import cv2"
   ]
  },
  {
   "cell_type": "markdown",
   "id": "070e385c",
   "metadata": {},
   "source": [
    "### train\n",
    "- 在安装的ultralytics库源文件中修改\n",
    "- 模型参数：ultralytics/yolo/cfg/default.yaml, ultralytics/models/v8/yolov8-seg.yaml\n",
    "- 数据集参数：ultralytics/datasets/people.yaml"
   ]
  },
  {
   "cell_type": "code",
   "execution_count": null,
   "id": "2c756538",
   "metadata": {},
   "outputs": [],
   "source": [
    "# Load a model\n",
    "model = YOLO('yolov8m.yaml')  # build a new model from YAML\n",
    "model = YOLO('yolov8m.pt')  # load a pretrained model (recommended for training)\n",
    "# model = YOLO('yolov8n.yaml').load('yolov8n.pt')  # build from YAML and transfer weights\n",
    "\n",
    "# Train the model\n",
    "model.train(data='people.yaml', epochs=200, imgsz=640, batch=4)"
   ]
  },
  {
   "cell_type": "markdown",
   "id": "d8ce06f1",
   "metadata": {},
   "source": [
    "### test"
   ]
  },
  {
   "cell_type": "code",
   "execution_count": 6,
   "id": "e23a86c9",
   "metadata": {},
   "outputs": [
    {
     "name": "stderr",
     "output_type": "stream",
     "text": [
      "\n",
      "0: 480x640 3 platen_connects, 1 platen_disconnect, 117.5ms\n",
      "Speed: 2.0ms preprocess, 117.5ms inference, 1.0ms postprocess per image at shape (1, 3, 480, 640)\n"
     ]
    }
   ],
   "source": [
    "model = YOLO(r'F:\\PythonWork\\1.detection\\2.ultralytics-main\\runs\\detect\\train\\weights\\best.pt')  # load a custom model\n",
    "\n",
    "img_path = r'F:\\PythonWork\\1.detection\\2.ultralytics-main\\imgs\\23.jpg'\n",
    "img = cv2.imread(img_path)\n",
    "# Predict with the model\n",
    "results = model(img)[0]  # predict on an image\n",
    "\n",
    "detections = results.boxes.data.tolist()\n"
   ]
  },
  {
   "cell_type": "code",
   "execution_count": 12,
   "id": "04696f2c",
   "metadata": {},
   "outputs": [
    {
     "name": "stderr",
     "output_type": "stream",
     "text": [
      "WARNING  'Boxes.boxes' is deprecated. Use 'Boxes.data' instead.\n"
     ]
    },
    {
     "data": {
      "text/plain": [
       "ultralytics.engine.results.Boxes object with attributes:\n",
       "\n",
       "boxes: tensor([[1.5147e+03, 5.2461e+02, 1.6568e+03, 8.5204e+02, 8.9268e-01, 0.0000e+00],\n",
       "        [6.2256e+02, 1.0384e+03, 7.4137e+02, 1.3769e+03, 8.9241e-01, 0.0000e+00],\n",
       "        [1.6714e+03, 1.0179e+03, 1.8268e+03, 1.3587e+03, 8.7990e-01, 0.0000e+00],\n",
       "        [6.6133e+02, 5.0513e+02, 9.1589e+02, 8.4068e+02, 7.5533e-01, 1.0000e+00]], device='cuda:0')\n",
       "cls: tensor([0., 0., 0., 1.], device='cuda:0')\n",
       "conf: tensor([0.8927, 0.8924, 0.8799, 0.7553], device='cuda:0')\n",
       "data: tensor([[1.5147e+03, 5.2461e+02, 1.6568e+03, 8.5204e+02, 8.9268e-01, 0.0000e+00],\n",
       "        [6.2256e+02, 1.0384e+03, 7.4137e+02, 1.3769e+03, 8.9241e-01, 0.0000e+00],\n",
       "        [1.6714e+03, 1.0179e+03, 1.8268e+03, 1.3587e+03, 8.7990e-01, 0.0000e+00],\n",
       "        [6.6133e+02, 5.0513e+02, 9.1589e+02, 8.4068e+02, 7.5533e-01, 1.0000e+00]], device='cuda:0')\n",
       "id: None\n",
       "is_track: False\n",
       "orig_shape: (1827, 2436)\n",
       "shape: torch.Size([4, 6])\n",
       "xywh: tensor([[1585.7120,  688.3251,  142.1108,  327.4339],\n",
       "        [ 681.9624, 1207.6750,  118.8137,  338.4594],\n",
       "        [1749.0771, 1188.3108,  155.4351,  340.8229],\n",
       "        [ 788.6099,  672.9059,  254.5617,  335.5575]], device='cuda:0')\n",
       "xywhn: tensor([[0.6509, 0.3768, 0.0583, 0.1792],\n",
       "        [0.2800, 0.6610, 0.0488, 0.1853],\n",
       "        [0.7180, 0.6504, 0.0638, 0.1865],\n",
       "        [0.3237, 0.3683, 0.1045, 0.1837]], device='cuda:0')\n",
       "xyxy: tensor([[1514.6566,  524.6081, 1656.7675,  852.0420],\n",
       "        [ 622.5555, 1038.4453,  741.3693, 1376.9047],\n",
       "        [1671.3596, 1017.8994, 1826.7947, 1358.7223],\n",
       "        [ 661.3290,  505.1271,  915.8907,  840.6846]], device='cuda:0')\n",
       "xyxyn: tensor([[0.6218, 0.2871, 0.6801, 0.4664],\n",
       "        [0.2556, 0.5684, 0.3043, 0.7536],\n",
       "        [0.6861, 0.5571, 0.7499, 0.7437],\n",
       "        [0.2715, 0.2765, 0.3760, 0.4601]], device='cuda:0')"
      ]
     },
     "execution_count": 12,
     "metadata": {},
     "output_type": "execute_result"
    }
   ],
   "source": [
    "results.boxes"
   ]
  },
  {
   "cell_type": "code",
   "execution_count": 9,
   "id": "09f22ca1",
   "metadata": {},
   "outputs": [
    {
     "data": {
      "text/plain": [
       "{0: 'platen_connect', 1: 'platen_disconnect'}"
      ]
     },
     "execution_count": 9,
     "metadata": {},
     "output_type": "execute_result"
    }
   ],
   "source": [
    "results.names"
   ]
  },
  {
   "cell_type": "code",
   "execution_count": 10,
   "id": "bf113ae0",
   "metadata": {},
   "outputs": [
    {
     "name": "stdout",
     "output_type": "stream",
     "text": [
      "1514.6566162109375 524.6080932617188 1656.7674560546875 852.0419921875 0.8926833868026733 0.0\n",
      "622.5555419921875 1038.4453125 741.3692626953125 1376.9046630859375 0.8924139142036438 0.0\n",
      "1671.359619140625 1017.8994140625 1826.794677734375 1358.7222900390625 0.8798983693122864 0.0\n",
      "661.3289794921875 505.12713623046875 915.8906860351562 840.6846313476562 0.7553278207778931 1.0\n"
     ]
    }
   ],
   "source": [
    "detections = results.boxes.data.tolist()\n",
    "class_names = results.names\n",
    "\n",
    "for detect in detections:\n",
    "    xmin, ymin, xmax, ymax, pred, cls = detect[0], detect[1], detect[2], detect[3], detect[4], detect[5]\n",
    "    print(xmin, ymin, xmax, ymax, pred, cls)"
   ]
  },
  {
   "cell_type": "code",
   "execution_count": null,
   "id": "2d65d887",
   "metadata": {},
   "outputs": [],
   "source": []
  }
 ],
 "metadata": {
  "kernelspec": {
   "display_name": "Python 3 (ipykernel)",
   "language": "python",
   "name": "python3"
  },
  "language_info": {
   "codemirror_mode": {
    "name": "ipython",
    "version": 3
   },
   "file_extension": ".py",
   "mimetype": "text/x-python",
   "name": "python",
   "nbconvert_exporter": "python",
   "pygments_lexer": "ipython3",
   "version": "3.8.16"
  }
 },
 "nbformat": 4,
 "nbformat_minor": 5
}

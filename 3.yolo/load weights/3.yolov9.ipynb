{
 "cells": [
  {
   "cell_type": "markdown",
   "id": "5deaabad",
   "metadata": {},
   "source": [
    "#### 与yolov5加载方式相同"
   ]
  },
  {
   "cell_type": "code",
   "execution_count": 1,
   "id": "921af941",
   "metadata": {},
   "outputs": [],
   "source": [
    "import torch\n",
    "import cv2\n",
    "import numpy as np"
   ]
  },
  {
   "cell_type": "code",
   "execution_count": 3,
   "id": "cfa32657",
   "metadata": {},
   "outputs": [
    {
     "name": "stderr",
     "output_type": "stream",
     "text": [
      "YOLOv5  2024-2-25 Python-3.8.16 torch-1.12.0+cu116 CUDA:0 (NVIDIA GeForce RTX 2060, 6144MiB)\n",
      "\n",
      "Fusing layers... \n",
      "yolov9-c summary: 724 layers, 50960940 parameters, 0 gradients\n",
      "Adding AutoShape... \n"
     ]
    },
    {
     "name": "stdout",
     "output_type": "stream",
     "text": [
      "684 689 717 766 0.879857063293457 0.0\n",
      "578 687 616 766 0.8125973343849182 0.0\n"
     ]
    }
   ],
   "source": [
    "model_detect_yaban_path = r'F:\\PythonWork\\1.detection\\yolov9-main\\runs\\train\\best.pt'\n",
    "model_yaban = torch.hub.load(r'F:\\PythonWork\\1.detection\\yolov9-main/', 'custom', source='local', path=model_detect_yaban_path)\n",
    "\n",
    "model_yaban.conf = 0.6\n",
    "img_path = r'F:\\PythonWork\\6.grpc\\upload\\electrical_cabinet\\results\\ori_img\\162#2电容器开关柜.jpg'\n",
    "img = cv2.imdecode(np.fromfile(img_path, dtype=np.uint8), -1)\n",
    "\n",
    "\n",
    "results = model_yaban(img)\n",
    "detections = results.xyxy[0]\n",
    "for detection in detections:\n",
    "    det_xmin, det_ymin, det_xmax, det_ymax, confidence, class_id = detection.tolist()\n",
    "    det_xmin, det_ymin, det_xmax, det_ymax = int(det_xmin), int(det_ymin), int(det_xmax), int(det_ymax)\n",
    "    print(det_xmin, det_ymin, det_xmax, det_ymax, confidence, class_id)"
   ]
  },
  {
   "cell_type": "code",
   "execution_count": null,
   "id": "5af88617",
   "metadata": {},
   "outputs": [],
   "source": []
  }
 ],
 "metadata": {
  "kernelspec": {
   "display_name": "Python 3 (ipykernel)",
   "language": "python",
   "name": "python3"
  },
  "language_info": {
   "codemirror_mode": {
    "name": "ipython",
    "version": 3
   },
   "file_extension": ".py",
   "mimetype": "text/x-python",
   "name": "python",
   "nbconvert_exporter": "python",
   "pygments_lexer": "ipython3",
   "version": "3.8.16"
  }
 },
 "nbformat": 4,
 "nbformat_minor": 5
}

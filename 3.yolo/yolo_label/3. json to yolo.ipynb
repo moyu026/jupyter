{
 "cells": [
  {
   "cell_type": "code",
   "execution_count": null,
   "id": "0fa36a69",
   "metadata": {},
   "outputs": [],
   "source": [
    "import json\n",
    "import os\n",
    "import argparse\n",
    "from tqdm import tqdm\n",
    "\n",
    "\n",
    "def convert_label_json(json_dir, save_dir, classes):\n",
    "    json_paths = os.listdir(json_dir)\n",
    "    classes = classes.split(',')\n",
    "\n",
    "    for json_path in tqdm(json_paths):\n",
    "        # for json_path in json_paths:\n",
    "        path = os.path.join(json_dir, json_path)\n",
    "        with open(path, 'r', encoding='utf-8') as load_f:\n",
    "            json_dict = json.load(load_f)\n",
    "        h, w = json_dict['imageHeight'], json_dict['imageWidth']\n",
    "\n",
    "        # save txt path\n",
    "        txt_path = os.path.join(save_dir, json_path.replace('json', 'txt'))\n",
    "        txt_file = open(txt_path, 'w')\n",
    "\n",
    "        print(path)\n",
    "\n",
    "        for shape_dict in json_dict['shapes']:\n",
    "            label = shape_dict['label']\n",
    "            label_index = classes.index(label)\n",
    "            points = shape_dict['points']\n",
    "\n",
    "            points_nor_list = []\n",
    "\n",
    "            for point in points:\n",
    "                points_nor_list.append(point[0] / w)\n",
    "                points_nor_list.append(point[1] / h)\n",
    "\n",
    "            points_nor_list = list(map(lambda x: str(x), points_nor_list))\n",
    "            points_nor_str = ' '.join(points_nor_list)\n",
    "\n",
    "            label_str = str(label_index) + ' ' + points_nor_str + '\\n'\n",
    "            txt_file.writelines(label_str)\n",
    "\n",
    "\n",
    "\n",
    "if __name__ == \"__main__\":\n",
    "    \"\"\"\n",
    "    python json2txt_nomalize.py --json-dir my_datasets/color_rings/jsons --save-dir my_datasets/color_rings/txts --classes \"cat,dogs\"\n",
    "    \"\"\"\n",
    "    parser = argparse.ArgumentParser(description='json convert to txt params')\n",
    "    parser.add_argument('--json-dir', type=str, default=r'F:\\PythonWork\\1.detection\\5.eletrical_cabinet\\pointer\\Detect-and-read-meters-2\\data\\annotations\\single_pointer_laebl', help='json path dir')\n",
    "    parser.add_argument('--save-dir', type=str, default=r'F:\\PythonWork\\1.detection\\5.eletrical_cabinet\\pointer\\Detect-and-read-meters-2\\data\\annotations\\single_pointer_yolo', help='txt save dir')\n",
    "    parser.add_argument('--classes', type=str, default='1', help='classes')  # 所有的类名\n",
    "    args = parser.parse_args()\n",
    "    json_dir = args.json_dir\n",
    "    save_dir = args.save_dir\n",
    "    classes = args.classes\n",
    "    convert_label_json(json_dir, save_dir, classes)"
   ]
  }
 ],
 "metadata": {
  "kernelspec": {
   "display_name": "Python 3 (ipykernel)",
   "language": "python",
   "name": "python3"
  },
  "language_info": {
   "codemirror_mode": {
    "name": "ipython",
    "version": 3
   },
   "file_extension": ".py",
   "mimetype": "text/x-python",
   "name": "python",
   "nbconvert_exporter": "python",
   "pygments_lexer": "ipython3",
   "version": "3.8.16"
  }
 },
 "nbformat": 4,
 "nbformat_minor": 5
}

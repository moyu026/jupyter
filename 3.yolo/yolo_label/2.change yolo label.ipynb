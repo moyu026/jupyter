{
 "cells": [
  {
   "cell_type": "markdown",
   "id": "b30439f0",
   "metadata": {},
   "source": [
    "### 修改yolo标签中标签的数字"
   ]
  },
  {
   "cell_type": "code",
   "execution_count": null,
   "id": "643ee61f",
   "metadata": {},
   "outputs": [],
   "source": [
    "import os\n",
    "\n",
    "def change_idx(input_file, output_file):\n",
    "    with open(input_file, 'r') as input_f, open(output_file, 'w') as output_f:\n",
    "        for label in input_f:\n",
    "            parts = label.strip().split()\n",
    "            class_id = int(parts[0])\n",
    "            if class_id == 0:\n",
    "                class_id = 1\n",
    "            else:\n",
    "                class_id = 0\n",
    "\n",
    "            parts[0] = str(class_id)\n",
    "            new_label = \" \".join(parts)\n",
    "            output_f.write(new_label + \"\\n\")\n",
    "\n",
    "\n",
    "label_folder = r'F:\\PythonWork\\dataset\\electrical_cabinet_all\\detect\\light\\labels\\val'\n",
    "new_label_folder = r'F:\\PythonWork\\dataset\\electrical_cabinet_all\\detect\\traffic_light\\traffic_light\\val'\n",
    "\n",
    "label_list = os.listdir(label_folder)\n",
    "\n",
    "for label_file in label_list:\n",
    "    label_file_path = os.path.join(label_folder, label_file)\n",
    "    new_label_path = os.path.join(new_label_folder, label_file)\n",
    "    change_idx(label_file_path, new_label_path)\n"
   ]
  }
 ],
 "metadata": {
  "kernelspec": {
   "display_name": "Python 3 (ipykernel)",
   "language": "python",
   "name": "python3"
  },
  "language_info": {
   "codemirror_mode": {
    "name": "ipython",
    "version": 3
   },
   "file_extension": ".py",
   "mimetype": "text/x-python",
   "name": "python",
   "nbconvert_exporter": "python",
   "pygments_lexer": "ipython3",
   "version": "3.8.16"
  }
 },
 "nbformat": 4,
 "nbformat_minor": 5
}

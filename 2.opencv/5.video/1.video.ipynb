{
 "cells": [
  {
   "cell_type": "code",
   "execution_count": 1,
   "id": "bd77c087",
   "metadata": {},
   "outputs": [],
   "source": [
    "import cv2 \n",
    "import os"
   ]
  },
  {
   "cell_type": "code",
   "execution_count": 2,
   "id": "02fa7437",
   "metadata": {},
   "outputs": [],
   "source": [
    "video_path = '../image_file/video/test.mp4'\n",
    "cap = cv2.VideoCapture(video_path)"
   ]
  },
  {
   "cell_type": "markdown",
   "id": "80cbbd43",
   "metadata": {},
   "source": [
    "##### 判断视频地址是否存在和是否能正常打开"
   ]
  },
  {
   "cell_type": "code",
   "execution_count": 3,
   "id": "13d9d4dc",
   "metadata": {},
   "outputs": [
    {
     "name": "stdout",
     "output_type": "stream",
     "text": [
      "Video file ../image_file/video/test.mp4 exists\n",
      "Success: Video file ../image_file/video/test.mp4 opened successfully\n"
     ]
    }
   ],
   "source": [
    "if not os.path.exists(video_path):  # 先判断视频路径是否存在\n",
    "    print(f\"Video file {video_path} does not exist\")\n",
    "else: \n",
    "    print(f\"Video file {video_path} exists\")\n",
    "    if not cap.isOpened():\n",
    "        print(f\"Error: Could not open video file {video_path}\")\n",
    "    else:\n",
    "        print(f\"Success: Video file {video_path} opened successfully\")"
   ]
  },
  {
   "cell_type": "code",
   "execution_count": 4,
   "id": "64a8dc4e",
   "metadata": {},
   "outputs": [],
   "source": [
    "while True:   \n",
    "    ret, frame = cap.read()# ret表示是否能正常读取帧， frame为帧的图像数据\n",
    "    if not ret:\n",
    "        break"
   ]
  },
  {
   "cell_type": "code",
   "execution_count": null,
   "id": "9b08d167",
   "metadata": {},
   "outputs": [],
   "source": []
  }
 ],
 "metadata": {
  "kernelspec": {
   "display_name": "Python 3 (ipykernel)",
   "language": "python",
   "name": "python3"
  },
  "language_info": {
   "codemirror_mode": {
    "name": "ipython",
    "version": 3
   },
   "file_extension": ".py",
   "mimetype": "text/x-python",
   "name": "python",
   "nbconvert_exporter": "python",
   "pygments_lexer": "ipython3",
   "version": "3.8.16"
  }
 },
 "nbformat": 4,
 "nbformat_minor": 5
}

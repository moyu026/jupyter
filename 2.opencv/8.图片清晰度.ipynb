{
 "cells": [
  {
   "cell_type": "code",
   "execution_count": 1,
   "id": "e3626270",
   "metadata": {},
   "outputs": [
    {
     "name": "stdout",
     "output_type": "stream",
     "text": [
      "图片清晰度：14.738756134728442\n"
     ]
    }
   ],
   "source": [
    "import cv2\n",
    "import numpy as np\n",
    "\n",
    "def calculate_image_sharpness(image_path):\n",
    "    # 读取图像\n",
    "    img = cv2.imdecode(np.fromfile(image_path, dtype=np.uint8), cv2.IMREAD_COLOR)\n",
    "\n",
    "    # 将图像转换为灰度图像\n",
    "    gray = cv2.cvtColor(img, cv2.COLOR_BGR2GRAY)\n",
    "\n",
    "    # 计算图像的 Laplacian 方差作为清晰度指标\n",
    "    sharpness = cv2.Laplacian(gray, cv2.CV_64F).var()\n",
    "\n",
    "    return sharpness\n",
    "\n",
    "# 图片文件路径\n",
    "image_file = r'F:\\PythonWork\\6.grpc\\electrical_cabinet\\data\\image\\1P2Ⅱ段压变避雷器开关柜.jpg'\n",
    "# image_file = r'F:\\PythonWork\\0.other\\label_test\\file\\0\\111.jpg'\n",
    "\n",
    "# 计算图片清晰度\n",
    "sharpness = calculate_image_sharpness(image_file)\n",
    "print(f\"图片清晰度：{sharpness}\")\n"
   ]
  },
  {
   "cell_type": "code",
   "execution_count": null,
   "id": "2d591c93",
   "metadata": {},
   "outputs": [],
   "source": []
  }
 ],
 "metadata": {
  "kernelspec": {
   "display_name": "Python 3 (ipykernel)",
   "language": "python",
   "name": "python3"
  },
  "language_info": {
   "codemirror_mode": {
    "name": "ipython",
    "version": 3
   },
   "file_extension": ".py",
   "mimetype": "text/x-python",
   "name": "python",
   "nbconvert_exporter": "python",
   "pygments_lexer": "ipython3",
   "version": "3.8.16"
  }
 },
 "nbformat": 4,
 "nbformat_minor": 5
}

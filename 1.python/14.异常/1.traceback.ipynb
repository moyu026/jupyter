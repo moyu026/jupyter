{
 "cells": [
  {
   "cell_type": "markdown",
   "id": "c6dcfe0d",
   "metadata": {},
   "source": [
    "### 使用traceback输出异常"
   ]
  },
  {
   "cell_type": "code",
   "execution_count": 1,
   "id": "52ca9f66",
   "metadata": {},
   "outputs": [
    {
     "name": "stderr",
     "output_type": "stream",
     "text": [
      "Traceback (most recent call last):\n",
      "  File \"C:\\Users\\liu\\AppData\\Local\\Temp\\ipykernel_16800\\2378726014.py\", line 7, in func\n",
      "    y = num1 / num2\n",
      "ZeroDivisionError: division by zero\n"
     ]
    }
   ],
   "source": [
    "import traceback\n",
    "\n",
    "\n",
    "def func(num1, num2):\n",
    "    try:\n",
    "        x = num1 * num2\n",
    "        y = num1 / num2\n",
    "        return x, y\n",
    "    except:\n",
    "        traceback.print_exc() # 打印异常的回溯信息\n",
    "\n",
    "func(1, 0)\n"
   ]
  },
  {
   "cell_type": "markdown",
   "id": "cdc6902b",
   "metadata": {},
   "source": [
    "### 系统默认的异常提醒"
   ]
  },
  {
   "cell_type": "code",
   "execution_count": 2,
   "id": "cffe3c11",
   "metadata": {},
   "outputs": [
    {
     "ename": "ZeroDivisionError",
     "evalue": "division by zero",
     "output_type": "error",
     "traceback": [
      "\u001b[1;31m---------------------------------------------------------------------------\u001b[0m",
      "\u001b[1;31mZeroDivisionError\u001b[0m                         Traceback (most recent call last)",
      "Cell \u001b[1;32mIn[2], line 7\u001b[0m\n\u001b[0;32m      3\u001b[0m     y \u001b[38;5;241m=\u001b[39m num1 \u001b[38;5;241m/\u001b[39m num2\n\u001b[0;32m      4\u001b[0m     \u001b[38;5;28;01mreturn\u001b[39;00m x, y\n\u001b[1;32m----> 7\u001b[0m \u001b[43mfunc\u001b[49m\u001b[43m(\u001b[49m\u001b[38;5;241;43m1\u001b[39;49m\u001b[43m,\u001b[49m\u001b[43m \u001b[49m\u001b[38;5;241;43m0\u001b[39;49m\u001b[43m)\u001b[49m\n",
      "Cell \u001b[1;32mIn[2], line 3\u001b[0m, in \u001b[0;36mfunc\u001b[1;34m(num1, num2)\u001b[0m\n\u001b[0;32m      1\u001b[0m \u001b[38;5;28;01mdef\u001b[39;00m \u001b[38;5;21mfunc\u001b[39m(num1, num2):\n\u001b[0;32m      2\u001b[0m     x \u001b[38;5;241m=\u001b[39m num1 \u001b[38;5;241m*\u001b[39m num2\n\u001b[1;32m----> 3\u001b[0m     y \u001b[38;5;241m=\u001b[39m \u001b[43mnum1\u001b[49m\u001b[43m \u001b[49m\u001b[38;5;241;43m/\u001b[39;49m\u001b[43m \u001b[49m\u001b[43mnum2\u001b[49m\n\u001b[0;32m      4\u001b[0m     \u001b[38;5;28;01mreturn\u001b[39;00m x, y\n",
      "\u001b[1;31mZeroDivisionError\u001b[0m: division by zero"
     ]
    }
   ],
   "source": [
    "def func(num1, num2):\n",
    "    x = num1 * num2\n",
    "    y = num1 / num2\n",
    "    return x, y\n",
    "\n",
    "func(1, 0)"
   ]
  },
  {
   "cell_type": "code",
   "execution_count": null,
   "id": "2acbaebe",
   "metadata": {},
   "outputs": [],
   "source": []
  }
 ],
 "metadata": {
  "kernelspec": {
   "display_name": "Python 3 (ipykernel)",
   "language": "python",
   "name": "python3"
  },
  "language_info": {
   "codemirror_mode": {
    "name": "ipython",
    "version": 3
   },
   "file_extension": ".py",
   "mimetype": "text/x-python",
   "name": "python",
   "nbconvert_exporter": "python",
   "pygments_lexer": "ipython3",
   "version": "3.8.16"
  }
 },
 "nbformat": 4,
 "nbformat_minor": 5
}

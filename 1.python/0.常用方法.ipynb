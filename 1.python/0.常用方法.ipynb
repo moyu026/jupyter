{
 "cells": [
  {
   "cell_type": "markdown",
   "id": "1840928e",
   "metadata": {},
   "source": [
    "### 1.item()\n",
    "- item() 是用于从包含单个元素的标量张量（scalar tensor）或包含单个元素的 PyTorch Tensor 中获取该元素的方法。\n",
    "- item() 方法仅在张量包含单一元素时有效。如果张量包含多个元素，调用 item() 方法将引发异常。"
   ]
  },
  {
   "cell_type": "code",
   "execution_count": 1,
   "id": "d6718ae9",
   "metadata": {},
   "outputs": [
    {
     "name": "stdout",
     "output_type": "stream",
     "text": [
      "42\n"
     ]
    }
   ],
   "source": [
    "import torch\n",
    "\n",
    "# 创建一个包含单一元素的 PyTorch Tensor\n",
    "tensor = torch.tensor([42])\n",
    "\n",
    "# 使用 item() 获取元素的值\n",
    "value = tensor.item()\n",
    "\n",
    "# 打印结果\n",
    "print(value)\n"
   ]
  },
  {
   "cell_type": "markdown",
   "id": "8e9cea4e",
   "metadata": {},
   "source": [
    "### 2.items()\n",
    "- items()方法通常用于字典类型（dict），它会返回一个包含字典中所有键值对的视图。对于字典 d，调用 d.items() 返回的是一个可迭代的对象，每次迭代都会产生一个元组，其中包含了字典中的键和对应的值。"
   ]
  },
  {
   "cell_type": "code",
   "execution_count": 5,
   "id": "67271bbd",
   "metadata": {},
   "outputs": [
    {
     "name": "stdout",
     "output_type": "stream",
     "text": [
      "Key: apple, Value: 1\n",
      "Key: banana, Value: 2\n",
      "Key: cherry, Value: 3\n"
     ]
    }
   ],
   "source": [
    "my_dict = {'apple': 1, 'banana': 2, 'cherry': 3}\n",
    "\n",
    "for key, value in my_dict.items():\n",
    "    print(f'Key: {key}, Value: {value}')\n"
   ]
  },
  {
   "cell_type": "markdown",
   "id": "a7d7aadb",
   "metadata": {},
   "source": [
    "### 3.enumerate()\n",
    "- enumerate(iterable, start=0)用于在迭代时同时获取元素的索引和值。它返回一个包含索引和值的元组，通常用于循环中，方便获取元素的位置信息。"
   ]
  },
  {
   "cell_type": "code",
   "execution_count": 2,
   "id": "924a5ac5",
   "metadata": {},
   "outputs": [
    {
     "name": "stdout",
     "output_type": "stream",
     "text": [
      "Index: 1, Value: apple\n",
      "Index: 2, Value: banana\n",
      "Index: 3, Value: cherry\n"
     ]
    }
   ],
   "source": [
    "fruits = ['apple', 'banana', 'cherry']\n",
    "\n",
    "for index, value in enumerate(fruits, start=1):\n",
    "    print(f\"Index: {index}, Value: {value}\")\n"
   ]
  },
  {
   "cell_type": "markdown",
   "id": "132684e4",
   "metadata": {},
   "source": [
    "### 4.zip()\n",
    "- zip(iterable1, iterable2, ...)用于将多个可迭代对象（例如列表、元组等）的对应元素进行配对。它返回一个由元组组成的迭代器，每个元组包含来自输入可迭代对象的相应位置的元素。"
   ]
  },
  {
   "cell_type": "code",
   "execution_count": 3,
   "id": "47d6d675",
   "metadata": {},
   "outputs": [
    {
     "name": "stdout",
     "output_type": "stream",
     "text": [
      "[('Alice', 25), ('Bob', 30), ('Charlie', 22)]\n"
     ]
    }
   ],
   "source": [
    "names = ['Alice', 'Bob', 'Charlie']\n",
    "ages = [25, 30, 22]\n",
    "\n",
    "# 使用 zip() 配对两个可迭代对象\n",
    "zipped_data = zip(names, ages)\n",
    "\n",
    "# 将结果转换为列表\n",
    "result_list = list(zipped_data)\n",
    "\n",
    "print(result_list)\n"
   ]
  },
  {
   "cell_type": "code",
   "execution_count": 4,
   "id": "4f6e93a1",
   "metadata": {},
   "outputs": [
    {
     "name": "stdout",
     "output_type": "stream",
     "text": [
      "Name: Alice, Age: 25\n",
      "Name: Bob, Age: 30\n",
      "Name: Charlie, Age: 22\n"
     ]
    }
   ],
   "source": [
    "for name, age in zip(names, ages):\n",
    "    print(f\"Name: {name}, Age: {age}\")\n"
   ]
  },
  {
   "cell_type": "code",
   "execution_count": null,
   "id": "14fcd706",
   "metadata": {},
   "outputs": [],
   "source": []
  }
 ],
 "metadata": {
  "kernelspec": {
   "display_name": "Python 3 (ipykernel)",
   "language": "python",
   "name": "python3"
  },
  "language_info": {
   "codemirror_mode": {
    "name": "ipython",
    "version": 3
   },
   "file_extension": ".py",
   "mimetype": "text/x-python",
   "name": "python",
   "nbconvert_exporter": "python",
   "pygments_lexer": "ipython3",
   "version": "3.8.16"
  }
 },
 "nbformat": 4,
 "nbformat_minor": 5
}

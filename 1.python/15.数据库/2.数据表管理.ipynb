{
 "cells": [
  {
   "cell_type": "markdown",
   "id": "a14a65bc",
   "metadata": {},
   "source": [
    "#####  创建表结构\n",
    "    create table 表名(\n",
    "        列名 类型，\n",
    "        列名 类型，\n",
    "        列名 类型\n",
    "     )default charset=utf8;\n"
   ]
  },
  {
   "cell_type": "code",
   "execution_count": null,
   "id": "1d7d30ff",
   "metadata": {},
   "outputs": [],
   "source": [
    "create table tb1(    \n",
    "    id int, \n",
    "    name varchar(16)  \n",
    "      )default charset=utf8;"
   ]
  },
  {
   "cell_type": "code",
   "execution_count": null,
   "id": "9afa7333",
   "metadata": {},
   "outputs": [],
   "source": [
    "create table tb2(\n",
    "    id int,\n",
    "    name varchar(16) not null, -- 不允许为空\n",
    "    email varchar(16) null,  --允许为空(默认)\n",
    "    age int\n",
    ")default charset=utf8;"
   ]
  },
  {
   "cell_type": "code",
   "execution_count": null,
   "id": "970cecdf",
   "metadata": {},
   "outputs": [],
   "source": [
    "create table tb3(\n",
    "    id int,\n",
    "    name varchar(16) not null, -- 不允许为空\n",
    "    email varchar(16) null, -- 允许为空(默认)\n",
    "    age int default 3     -- 插入数据时，如果不给age列设置值，默认值为3\n",
    ")default charset=utf8;"
   ]
  },
  {
   "cell_type": "code",
   "execution_count": null,
   "id": "c16563a4",
   "metadata": {},
   "outputs": [],
   "source": [
    "create table tb4(\n",
    "    id int primary key,      -- 主键(不允许为空、不能重复) 一个表只有一个主键\n",
    "    name varchar(16) not null, -- 不允许为空\n",
    "    email varchar(16) null, -- 允许为空(默认)\n",
    "    age int default 3     -- 插入数据时，如果不给age列设置值，默认值为3\n",
    ")default charset=utf8;"
   ]
  },
  {
   "cell_type": "code",
   "execution_count": null,
   "id": "559b5f80",
   "metadata": {},
   "outputs": [],
   "source": [
    "create table tb5(\n",
    "    id int not null auto_increment primary key,      -- 主键&不为空&自增\n",
    "    name varchar(16) not null, -- 不允许为空\n",
    "    email varchar(16) null, -- 允许为空(默认)\n",
    "    age int default 3     -- 插入数据时，如果不给age列设置值，默认值为3\n",
    ")default charset=utf8;"
   ]
  },
  {
   "cell_type": "markdown",
   "id": "2aa1dc44",
   "metadata": {},
   "source": [
    "- 查看表 `desc 表名`\n",
    "- 查询表内容 `select * from 表名;`\n",
    "- 删除表 `drop table 表名;`\n",
    "- 清空表 `delete from 表名;`或`truncate table 表名;`(速度快，无法回滚撤销等)\n",
    "- 修改表\n",
    "    - 添加列  \n",
    "    `alter table 表名 add 列名 类型;`  \n",
    "    `alter table 表名 add 列名 类型 DEFAULT 默认值;`  \n",
    "    `alter table 表名 add 列名 类型 not null default 默认值;`  \n",
    "    `alter table 表名 add 列名 类型 not null primary key auto_increment;`\n",
    "    - 删除列  \n",
    "    `alter table 表名 drop column 列名；`  \n",
    "    - 修改列 类型  \n",
    "    `alter table 表名 modify column 列名 类型;`  \n",
    "    - 修改列 类型+名称    \n",
    "    `alter table 表名 change 原列名 新列名 新类型;`  \n",
    "    `alter table tb change id id int not null;`  \n",
    "    `alter table tb change id id int not null default 5;`  \n",
    "    `alter table tb change id id int not null primary key auto_increment;`  \n",
    "    `alter table tb change id id int ;` -- 允许为空，删除默认值，删除自增  \n",
    "    - 修改列 默认值  \n",
    "    ` ALTER TABLE 表名 ALTER 列名 SET DEFAULT 100;`    \n",
    "    - 删除列 默认值  \n",
    "    `ALTER TABLR 表名 ALTER 列名 SET DEFAULT;`  \n",
    "    - 添加主键  \n",
    "    `alter tablr 表名 add primary key(列名);`  \n",
    "    - 删除主键  \n",
    "    `alter table 表名 drop primary key;`  \n",
    "    \n",
    "    \n",
    "    "
   ]
  },
  {
   "cell_type": "markdown",
   "id": "e02d5be1",
   "metadata": {},
   "source": [
    "#### 数据行操作"
   ]
  },
  {
   "cell_type": "markdown",
   "id": "7c0e86f6",
   "metadata": {},
   "source": [
    "- 新增数据  \n",
    "`insert into 表名(列名，列名，列名) values(对应列的值，对应列的值，对应列的值);`  \n",
    "`insert into tb1(name,password) values('xiaoming','1232321');`  \n",
    "`insert into tb1(name,password) values('xiaoming','1232321'),('alexs','4566321');`   \n",
    "`insert into tb1 values('xiaoming','1232321'),('alexs','4566321');`--如果表中只有2列\n",
    "- 删除数据  \n",
    "`delete from 表名;`  \n",
    "`delete from 表名 where 条件;`  \n",
    "`delete from tb1;`  \n",
    "`delete from tb1 where name='peiqi';`  \n",
    "`delete from tb1 where name='peiqi' and password='123'; `   \n",
    "`delete from tb1 where id>9;`  \n",
    "- 修改数据  \n",
    "`update 表名 set 列名=值;`   \n",
    "`update 表名 set 列名=值 where 条件;`  \n",
    "`select*from info where id between 2 and 4;`  \n",
    "`update tb1 set name='xiaomin';`    \n",
    "`update tb1 set name='xiaomin' where id=1;`    \n",
    "`update tb1 set age=age+1 where id=2;`  \n",
    "`update users set name=concat(name,'123') where id=2;`  \n",
    "- 查询数据  \n",
    "`select * from 表名;`  \n",
    "`select 列名，列名，列名 from 表名;`  \n",
    "`select 列名，列名 as 列名，列名 from 表名;`  \n",
    "`select * from 表名 where 条件;`  \n",
    "`select * from tb1;`  \n",
    "`select id,name,age from tb1;`  \n",
    "`select id,name as N,age from tb1;`  \n",
    "`select id,name as N,age,111 from tb1;`  \n",
    "`select * from tb1 where id=1;`  \n",
    "`select * from tb1 where id>1;`  \n",
    "`select * from tb1 where id!=1;`  \n",
    "`select * from tb1 where name='xiaomin' and password='123';`  \n"
   ]
  },
  {
   "cell_type": "markdown",
   "id": "cec553ff",
   "metadata": {},
   "source": [
    "#### 根据条件搜索结果\n"
   ]
  },
  {
   "cell_type": "markdown",
   "id": "34f148b0",
   "metadata": {},
   "source": [
    "select * from tb1 where age>30;\n",
    "select * from tb1 where id>3;\n",
    "select * from tb1 where id=3;\n",
    "select * from tb1 where id>=3;\n",
    "select * from tb1 where id!=3;\n",
    "select * from tb1 where id between 2 and 4; --id大于等于2，小于等于4；\n",
    "\n",
    "select * from tb1 where name=\"hong\" and age=19;\n",
    "select * from tb1 where name=\"hong\" or age=19;\n",
    "select * from tb1 where (name=\"hong\" or age=19) and id=1;\n",
    "\n",
    "select * from tb1 where id in (1,2,3);\n",
    "select * from tb1 where id not in (1,2,3);\n",
    "select * from tb1 where id in (select id from tb2);\n",
    "select * from tb1 where exists (select * from tb2 where id=5);\n",
    "select * from tb1 where not exists (select * from tb2 where id=5);"
   ]
  },
  {
   "cell_type": "markdown",
   "id": "4f4aea03",
   "metadata": {},
   "source": [
    "#### 通配符\n",
    "- %表示n个字符\n",
    "- _表示一个字符"
   ]
  },
  {
   "cell_type": "markdown",
   "id": "9f4c7238",
   "metadata": {},
   "source": [
    "select * from tb1 where name like \"%ming%\";\n",
    "select * from tb1 where name like \"%ming\";\n",
    "select * from tb1 where name like \"ming%\";\n",
    "select * from tb1 where name like \"k%y\";  \n",
    "\n",
    "select * from tb1 where email like \"_@live.com\";\n",
    "select * from tb1 where email like \"_ing@live.com\";\n",
    "\n"
   ]
  },
  {
   "cell_type": "markdown",
   "id": "97fbf3c1",
   "metadata": {},
   "source": [
    "#### 映射\n",
    "- 想要获取的类"
   ]
  },
  {
   "cell_type": "markdown",
   "id": "2fcc3547",
   "metadata": {},
   "source": [
    "select id, name from tb1;\n",
    "select id, name as NM from tb1;\n",
    "select id, name as NM,123 from tb1;\n",
    "\n",
    "select\n",
    "    id,\n",
    "    name,\n",
    "    666 as num,\n",
    "    (select max(id) from tb2) as mid,\n",
    "    age\n",
    "from tb1;\n",
    "\n",
    "select\n",
    "    id,\n",
    "    name,\n",
    "    (select title from tb2 where tb2.id=tb1.id) as x1\n",
    "from tb1;\n",
    "\n",
    "select \n",
    "    id,\n",
    "    name,\n",
    "    case depart_id when 1 then \"第一部门\" end v1,\n",
    "    case depart_id when 1 then \"第一部门\" else \"其他\" end v2,\n",
    "    case depart_id when 1 then \"第一部门\" when 2 then \"第二部门\" else \"其他\" end v3\n",
    "from tb1;"
   ]
  },
  {
   "cell_type": "markdown",
   "id": "9eee2087",
   "metadata": {},
   "source": [
    "#### 排序"
   ]
  },
  {
   "cell_type": "markdown",
   "id": "3ad33e55",
   "metadata": {},
   "source": [
    "select * from tb1 order by age desc;  --降序\n",
    "select * from tb1 order by age asc;  --升序\n",
    "\n",
    "select * from tb1 order by age asc,id desc; --优先按照age从小到大，如果age相同则按照id从大到小\n",
    "select * from tb1 where id>6 or name like \"%y\" order by age asc,id desc;"
   ]
  },
  {
   "cell_type": "markdown",
   "id": "3c078c54",
   "metadata": {},
   "source": [
    "#### 取部分数据"
   ]
  },
  {
   "cell_type": "markdown",
   "id": "e62a5f47",
   "metadata": {},
   "source": [
    "select * from tb1 limit 5;  --只获取前5行数据\n",
    "select * from tb1 order by id desc limit 3; --先排序，再获取前3条数据\n",
    "select * from tb1 where id>9 order by id desc limit 3; --先排序，再获取前3条数据\n",
    "\n",
    "select * from tb1 limit 3 offset 2; --从数据2开始，向后获取3条数据"
   ]
  },
  {
   "cell_type": "markdown",
   "id": "f8677cb0",
   "metadata": {},
   "source": [
    "#### 分组"
   ]
  },
  {
   "cell_type": "markdown",
   "id": "3a10fa85",
   "metadata": {},
   "source": [
    "select age,max(id),min(id),sum(id),avg(id) from tb1 group by age;\n",
    "select age,count(1) from tb1 group by age; --按照age进行分组，并计算每个age的人数\n",
    "select age,count(1) from tb1 group by age having count(age)>2;"
   ]
  },
  {
   "cell_type": "markdown",
   "id": "ea0bef8e",
   "metadata": {},
   "source": [
    "#### 左右连表\n",
    "- 多个表连接起来进行查询"
   ]
  },
  {
   "cell_type": "markdown",
   "id": "8b5c3a2b",
   "metadata": {},
   "source": [
    "select * from info left outer join depart on info.depart_id=depart.id;"
   ]
  }
 ],
 "metadata": {
  "kernelspec": {
   "display_name": "Python 3 (ipykernel)",
   "language": "python",
   "name": "python3"
  },
  "language_info": {
   "codemirror_mode": {
    "name": "ipython",
    "version": 3
   },
   "file_extension": ".py",
   "mimetype": "text/x-python",
   "name": "python",
   "nbconvert_exporter": "python",
   "pygments_lexer": "ipython3",
   "version": "3.8.16"
  }
 },
 "nbformat": 4,
 "nbformat_minor": 5
}

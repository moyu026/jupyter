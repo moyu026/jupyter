{
 "cells": [
  {
   "cell_type": "markdown",
   "id": "a14a65bc",
   "metadata": {},
   "source": [
    "#####  创建表结构\n",
    "    create table 表名(\n",
    "        列名 类型，\n",
    "        列名 类型，\n",
    "        列名 类型\n",
    "     )default charset=utf8;\n"
   ]
  },
  {
   "cell_type": "code",
   "execution_count": null,
   "id": "1d7d30ff",
   "metadata": {},
   "outputs": [],
   "source": [
    "create table tb1(    \n",
    "    id int, \n",
    "    name varchar(16)  \n",
    "      )default charset=utf8;"
   ]
  },
  {
   "cell_type": "code",
   "execution_count": null,
   "id": "9afa7333",
   "metadata": {},
   "outputs": [],
   "source": [
    "create table tb2(\n",
    "    id int,\n",
    "    name varchar(16) not null, -- 不允许为空\n",
    "    email varchar(16) null,  --允许为空(默认)\n",
    "    age int\n",
    ")default charset=utf8;"
   ]
  },
  {
   "cell_type": "code",
   "execution_count": null,
   "id": "970cecdf",
   "metadata": {},
   "outputs": [],
   "source": [
    "create table tb3(\n",
    "    id int,\n",
    "    name varchar(16) not null, -- 不允许为空\n",
    "    email varchar(16) null, -- 允许为空(默认)\n",
    "    age int default 3     -- 插入数据时，如果不给age列设置值，默认值为3\n",
    ")default charset=utf8;"
   ]
  },
  {
   "cell_type": "code",
   "execution_count": null,
   "id": "c16563a4",
   "metadata": {},
   "outputs": [],
   "source": [
    "create table tb4(\n",
    "    id int primary key,      -- 主键(不允许为空、不能重复) 一个表只有一个主键\n",
    "    name varchar(16) not null, -- 不允许为空\n",
    "    email varchar(16) null, -- 允许为空(默认)\n",
    "    age int default 3     -- 插入数据时，如果不给age列设置值，默认值为3\n",
    ")default charset=utf8;"
   ]
  },
  {
   "cell_type": "code",
   "execution_count": null,
   "id": "559b5f80",
   "metadata": {},
   "outputs": [],
   "source": [
    "create table tb5(\n",
    "    id int not null auto_increment primary key,      -- 主键&不为空&自增\n",
    "    name varchar(16) not null, -- 不允许为空\n",
    "    email varchar(16) null, -- 允许为空(默认)\n",
    "    age int default 3     -- 插入数据时，如果不给age列设置值，默认值为3\n",
    ")default charset=utf8;"
   ]
  },
  {
   "cell_type": "markdown",
   "id": "2aa1dc44",
   "metadata": {},
   "source": [
    "- 查看表 `desc 表名`\n",
    "- 查询表内容 `select * from 表名;`\n",
    "- 删除表 `drop table 表名;`\n",
    "- 清空表 `delete from 表名;`或`truncate table 表名;`(速度快，无法回滚撤销等)\n",
    "- 修改表\n",
    "    - 添加列  \n",
    "    `alter table 表名 add 列名 类型;`  \n",
    "    `alter table 表名 add 列名 类型 DEFAULT 默认值;`  \n",
    "    `alter table 表名 add 列名 类型 not null default 默认值;`  \n",
    "    `alter table 表名 add 列名 类型 not null primary key auto_increment;`\n",
    "    - 删除列  \n",
    "    `alter table 表名 drop column 列名；`  \n",
    "    - 修改列 类型  \n",
    "    `alter table 表名 modify column 列名 类型;`  \n",
    "    - 修改列 类型+名称    \n",
    "    `alter table 表名 change 原列名 新列名 新类型;`  \n",
    "    `alter table tb change id id int not null;`  \n",
    "    `alter table tb change id id int not null default 5;`  \n",
    "    `alter table tb change id id int not null primary key auto_increment;`  \n",
    "    `alter table tb change id id int ;` -- 允许为空，删除默认值，删除自增  \n",
    "    - 修改列 默认值  \n",
    "    ` ALTER TABLE 表名 ALTER 列名 SET DEFAULT 100;`    \n",
    "    - 删除列 默认值  \n",
    "    `ALTER TABLR 表名 ALTER 列名 SET DEFAULT;`  \n",
    "    - 添加主键  \n",
    "    `alter tablr 表名 add primary key(列名);`  \n",
    "    - 删除主键  \n",
    "    `alter table 表名 drop primary key;`  \n",
    "    \n",
    "    \n",
    "    "
   ]
  },
  {
   "cell_type": "markdown",
   "id": "e02d5be1",
   "metadata": {},
   "source": [
    "#### 数据行操作"
   ]
  },
  {
   "cell_type": "markdown",
   "id": "7c0e86f6",
   "metadata": {},
   "source": [
    "- 新增数据  \n",
    "`insert into 表名(列名，列名，列名) values(对应列的值，对应列的值，对应列的值);`  \n",
    "`insert into tb1(name,password) values('xiaoming','1232321');`  \n",
    "`insert into tb1(name,password) values('xiaoming','1232321'),('alexs','4566321');`   \n",
    "`insert into tb1 values('xiaoming','1232321'),('alexs','4566321');`--如果表中只有2列\n",
    "- 删除数据  \n",
    "`delete from 表名;`  \n",
    "`delete from 表名 where 条件;`  \n",
    "`delete from tb1;`  \n",
    "`delete from tb1 where name='peiqi';`  \n",
    "`delete from tb1 where name='peiqi' and password='123'; `   \n",
    "`delete from tb1 where id>9;`  \n",
    "- 修改数据  \n",
    "`update 表名 set 列名=值;`   \n",
    "`update 表名 set 列名=值 where 条件;`    \n",
    "`update tb1 set name='xiaomin';`    \n",
    "`update tb1 set name='xiaomin' where id=1;`    \n",
    "`update tb1 set age=age+1 where id=2;`  \n",
    "`update users set name=concat(name,'123') where id=2;`  \n",
    "- 查询数据  \n",
    "`select * from 表名;`  \n",
    "`select 列名，列名，列名 from 表名;`  \n",
    "`select 列名，列名 as 列名，列名 from 表名;`  \n",
    "`select * from 表名 where 条件;`  \n",
    "`select * from tb1;`  \n",
    "`select id,name,age from tb1;`  \n",
    "`select id,name as N,age from tb1;`  \n",
    "`select id,name as N,age,111 from tb1;`  \n",
    "`select * from tb1 where id=1;`  \n",
    "`select * from tb1 where id>1;`  \n",
    "`select * from tb1 where id!=1;`  \n",
    "`select * from tb1 where name='xiaomin' and password='123';`  \n"
   ]
  },
  {
   "cell_type": "code",
   "execution_count": null,
   "id": "cef545b2",
   "metadata": {},
   "outputs": [],
   "source": []
  },
  {
   "cell_type": "code",
   "execution_count": null,
   "id": "785a42ab",
   "metadata": {},
   "outputs": [],
   "source": []
  }
 ],
 "metadata": {
  "kernelspec": {
   "display_name": "Python 3 (ipykernel)",
   "language": "python",
   "name": "python3"
  },
  "language_info": {
   "codemirror_mode": {
    "name": "ipython",
    "version": 3
   },
   "file_extension": ".py",
   "mimetype": "text/x-python",
   "name": "python",
   "nbconvert_exporter": "python",
   "pygments_lexer": "ipython3",
   "version": "3.8.16"
  }
 },
 "nbformat": 4,
 "nbformat_minor": 5
}

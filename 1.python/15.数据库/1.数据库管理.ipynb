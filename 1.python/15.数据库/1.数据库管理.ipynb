{
 "cells": [
  {
   "cell_type": "code",
   "execution_count": 1,
   "id": "5326d6ae",
   "metadata": {},
   "outputs": [],
   "source": [
    "import pymysql"
   ]
  },
  {
   "cell_type": "markdown",
   "id": "9bb5523a",
   "metadata": {},
   "source": [
    "- 查看当前所有数据库：show databases;\n",
    "- 创建数据库：create database db00(名称) DEFAULT CHARSET utf8 COLLATE utf8_general_ci;\n",
    "- 删除数据库：drop database db00(名称);\n",
    "- 进入数据库：use db00;\n",
    "\n",
    "- 查看当前数据库下的表：show tables;"
   ]
  },
  {
   "cell_type": "code",
   "execution_count": 2,
   "id": "f0f41b6f",
   "metadata": {},
   "outputs": [],
   "source": [
    "# 连接MySQL数据库\n",
    "conn = pymysql.connect(host='localhost', port=3306, user='root', password='', charset='utf8')\n",
    "cursor = conn.cursor()\n"
   ]
  },
  {
   "cell_type": "code",
   "execution_count": 3,
   "id": "334cdb59",
   "metadata": {},
   "outputs": [
    {
     "name": "stdout",
     "output_type": "stream",
     "text": [
      "(('information_schema',), ('db00',), ('db01',), ('mysql',), ('performance_schema',), ('sys',))\n"
     ]
    }
   ],
   "source": [
    "# 查看数据库\n",
    "cursor.execute('SHOW DATABASES')\n",
    "# 获取指令的结果\n",
    "result = cursor.fetchall()\n",
    "print(result) # (('information_schema',), ('db00',), ('mysql',), ('performance_schema',), ('sys',))\n"
   ]
  },
  {
   "cell_type": "code",
   "execution_count": 4,
   "id": "f07f404e",
   "metadata": {},
   "outputs": [],
   "source": [
    "# 创建数据库\n",
    "cursor.execute('create database userdb DEFAULT CHARSET utf8 COLLATE utf8_general_ci')\n",
    "conn.commit()"
   ]
  },
  {
   "cell_type": "code",
   "execution_count": 5,
   "id": "2bb11881",
   "metadata": {},
   "outputs": [],
   "source": [
    "# 删除数据库\n",
    "cursor.execute(\"drop database db02\")\n",
    "conn.commit()"
   ]
  },
  {
   "cell_type": "code",
   "execution_count": 6,
   "id": "6fb53b66",
   "metadata": {},
   "outputs": [
    {
     "name": "stdout",
     "output_type": "stream",
     "text": [
      "(('columns_priv',), ('db',), ('engine_cost',), ('event',), ('func',), ('general_log',), ('gtid_executed',), ('help_category',), ('help_keyword',), ('help_relation',), ('help_topic',), ('innodb_index_stats',), ('innodb_table_stats',), ('ndb_binlog_index',), ('plugin',), ('proc',), ('procs_priv',), ('proxies_priv',), ('server_cost',), ('servers',), ('slave_master_info',), ('slave_relay_log_info',), ('slave_worker_info',), ('slow_log',), ('tables_priv',), ('time_zone',), ('time_zone_leap_second',), ('time_zone_name',), ('time_zone_transition',), ('time_zone_transition_type',), ('user',))\n"
     ]
    }
   ],
   "source": [
    "# 进入数据库，查看表\n",
    "cursor.execute('use mysql')\n",
    "cursor.execute('show tables')\n",
    "result = cursor.fetchall()\n",
    "print(result)"
   ]
  },
  {
   "cell_type": "code",
   "execution_count": null,
   "id": "2692db54",
   "metadata": {},
   "outputs": [],
   "source": [
    "# 关闭连接\n",
    "cursor.close()\n",
    "conn.close()"
   ]
  }
 ],
 "metadata": {
  "kernelspec": {
   "display_name": "Python 3 (ipykernel)",
   "language": "python",
   "name": "python3"
  },
  "language_info": {
   "codemirror_mode": {
    "name": "ipython",
    "version": 3
   },
   "file_extension": ".py",
   "mimetype": "text/x-python",
   "name": "python",
   "nbconvert_exporter": "python",
   "pygments_lexer": "ipython3",
   "version": "3.8.16"
  }
 },
 "nbformat": 4,
 "nbformat_minor": 5
}

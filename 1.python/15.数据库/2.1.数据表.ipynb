{
 "cells": [
  {
   "cell_type": "code",
   "execution_count": 1,
   "id": "e4788782",
   "metadata": {},
   "outputs": [],
   "source": [
    "import pymysql"
   ]
  },
  {
   "cell_type": "code",
   "execution_count": 3,
   "id": "db60fce1",
   "metadata": {},
   "outputs": [],
   "source": [
    "# 创建连接\n",
    "conn = pymysql.connect(\n",
    "    host='localhost',\n",
    "    port=3306,\n",
    "    user='root',\n",
    "    password='',\n",
    "    charset='utf8'\n",
    ")\n",
    "cursor = conn.cursor()"
   ]
  },
  {
   "cell_type": "code",
   "execution_count": 4,
   "id": "e65d6970",
   "metadata": {},
   "outputs": [],
   "source": [
    "# 创建数据库\n",
    "cursor.execute('create database db02 default charset utf8 collate  utf8_general_ci')\n",
    "conn.commit()"
   ]
  },
  {
   "cell_type": "code",
   "execution_count": 5,
   "id": "368440c8",
   "metadata": {},
   "outputs": [
    {
     "name": "stdout",
     "output_type": "stream",
     "text": [
      "()\n"
     ]
    }
   ],
   "source": [
    "# 进入数据库，查看数据表\n",
    "cursor.execute('use db02')\n",
    "cursor.execute('show tables')\n",
    "print(cursor.fetchall())"
   ]
  },
  {
   "cell_type": "code",
   "execution_count": 7,
   "id": "ae2070a3",
   "metadata": {},
   "outputs": [
    {
     "data": {
      "text/plain": [
       "1"
      ]
     },
     "execution_count": 7,
     "metadata": {},
     "output_type": "execute_result"
    }
   ],
   "source": [
    "# 进入数据库创建数据表\n",
    "cursor.execute('use db02')\n",
    "sql = \"\"\"\n",
    "create table student(\n",
    "    id int primary key auto_increment,\n",
    "    name varchar(20),\n",
    "    age int,\n",
    "    score float,\n",
    "    content text,\n",
    "    ctime datetime\n",
    ") default charset=utf8;\n",
    "\"\"\"\n",
    "cursor.execute(sql)\n",
    "conn.commit()\n",
    "cursor.execute('show tables')"
   ]
  },
  {
   "cell_type": "code",
   "execution_count": 8,
   "id": "a7dcf0c0",
   "metadata": {},
   "outputs": [
    {
     "name": "stdout",
     "output_type": "stream",
     "text": [
      "(('student',),)\n"
     ]
    }
   ],
   "source": [
    "print(cursor.fetchall())"
   ]
  },
  {
   "cell_type": "code",
   "execution_count": 9,
   "id": "7e9f31d0",
   "metadata": {},
   "outputs": [],
   "source": [
    "# 关闭连接\n",
    "cursor.close()\n",
    "conn.close()"
   ]
  },
  {
   "cell_type": "markdown",
   "id": "1577fb62",
   "metadata": {},
   "source": []
  },
  {
   "cell_type": "code",
   "execution_count": 10,
   "id": "334bfb43",
   "metadata": {},
   "outputs": [],
   "source": [
    "# 连接数据库，自动执行use db02; --进入数据库\n",
    "conn = pymysql.connect(host='localhost', port=3306, user='root', passwd='', db='db02')\n",
    "cursor = conn.cursor()"
   ]
  },
  {
   "cell_type": "code",
   "execution_count": 13,
   "id": "dc817649",
   "metadata": {},
   "outputs": [],
   "source": [
    "# 新增\n",
    "cursor.execute(\"insert into student values('2','xiaozhang','22','90','xxxc',NOW())\")\n",
    "conn.commit()"
   ]
  },
  {
   "cell_type": "code",
   "execution_count": null,
   "id": "e0030907",
   "metadata": {},
   "outputs": [],
   "source": [
    "# 删除\n",
    "cursor.execute(\"delete from student where id='0'\")\n",
    "conn.commit()"
   ]
  },
  {
   "cell_type": "code",
   "execution_count": 14,
   "id": "4dde9000",
   "metadata": {},
   "outputs": [],
   "source": [
    "# 修改\n",
    "cursor.execute(\"update student set name='xiaoli' where id='1'\")\n",
    "conn.commit()"
   ]
  },
  {
   "cell_type": "code",
   "execution_count": 15,
   "id": "e87dd832",
   "metadata": {},
   "outputs": [
    {
     "name": "stdout",
     "output_type": "stream",
     "text": [
      "((1, 'xiaoli', 12, 90.0, 'abc', datetime.datetime(2024, 4, 30, 13, 27, 43)), (2, 'xiaozhang', 22, 90.0, 'xxxc', datetime.datetime(2024, 4, 30, 13, 35, 3)))\n"
     ]
    }
   ],
   "source": [
    "cursor.execute('select * from student')\n",
    "print(cursor.fetchall())"
   ]
  },
  {
   "cell_type": "code",
   "execution_count": 16,
   "id": "0867a49c",
   "metadata": {},
   "outputs": [],
   "source": [
    "# 关闭连接\n",
    "cursor.close()\n",
    "conn.close()"
   ]
  },
  {
   "cell_type": "code",
   "execution_count": null,
   "id": "16b731c8",
   "metadata": {},
   "outputs": [],
   "source": []
  }
 ],
 "metadata": {
  "kernelspec": {
   "display_name": "Python 3 (ipykernel)",
   "language": "python",
   "name": "python3"
  },
  "language_info": {
   "codemirror_mode": {
    "name": "ipython",
    "version": 3
   },
   "file_extension": ".py",
   "mimetype": "text/x-python",
   "name": "python",
   "nbconvert_exporter": "python",
   "pygments_lexer": "ipython3",
   "version": "3.8.16"
  }
 },
 "nbformat": 4,
 "nbformat_minor": 5
}

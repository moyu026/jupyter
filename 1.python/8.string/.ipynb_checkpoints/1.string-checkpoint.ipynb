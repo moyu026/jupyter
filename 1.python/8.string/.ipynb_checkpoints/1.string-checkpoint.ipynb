{
 "cells": [
  {
   "cell_type": "markdown",
   "id": "47ddacc2",
   "metadata": {},
   "source": [
    "### 1.查找子字符串在字符串中的位置"
   ]
  },
  {
   "cell_type": "code",
   "execution_count": 1,
   "id": "b9c4faf8",
   "metadata": {},
   "outputs": [],
   "source": [
    "import re"
   ]
  },
  {
   "cell_type": "code",
   "execution_count": 2,
   "id": "2f30ddea",
   "metadata": {},
   "outputs": [],
   "source": [
    "string = '0001_0a_883a_0.1.png'\n",
    "sub = '_'"
   ]
  },
  {
   "cell_type": "code",
   "execution_count": 5,
   "id": "eff03d69",
   "metadata": {},
   "outputs": [
    {
     "name": "stdout",
     "output_type": "stream",
     "text": [
      "<re.Match object; span=(4, 5), match='_'>\n",
      "<re.Match object; span=(7, 8), match='_'>\n",
      "<re.Match object; span=(12, 13), match='_'>\n"
     ]
    }
   ],
   "source": [
    "for substr in re.finditer(sub, string):\n",
    "    print(substr)"
   ]
  },
  {
   "cell_type": "code",
   "execution_count": 8,
   "id": "1f2092e9",
   "metadata": {},
   "outputs": [
    {
     "name": "stdout",
     "output_type": "stream",
     "text": [
      "4\n",
      "5\n",
      "7\n",
      "8\n",
      "12\n",
      "13\n"
     ]
    }
   ],
   "source": [
    "for substr in re.finditer(sub, string):\n",
    "    print(substr.start())  # 子字符串出现的起始索引\n",
    "    print(substr.end())    # 子字符串出现的中止索引"
   ]
  },
  {
   "cell_type": "code",
   "execution_count": 10,
   "id": "4a71b979",
   "metadata": {},
   "outputs": [
    {
     "data": {
      "text/plain": [
       "[4, 7, 12]"
      ]
     },
     "execution_count": 10,
     "metadata": {},
     "output_type": "execute_result"
    }
   ],
   "source": [
    "# 列表生成式的方法输出子字符串出现的起始索引\n",
    "indx = [substr.start() for substr in re.finditer(sub, string)]\n",
    "indx"
   ]
  },
  {
   "cell_type": "markdown",
   "id": "c3e48eaa",
   "metadata": {},
   "source": [
    "### 2.获取文件名的名称和后缀"
   ]
  },
  {
   "cell_type": "code",
   "execution_count": 12,
   "id": "1fb97f6f",
   "metadata": {},
   "outputs": [
    {
     "data": {
      "text/plain": [
       "('0001_0a_883a_0.1', '.png')"
      ]
     },
     "execution_count": 12,
     "metadata": {},
     "output_type": "execute_result"
    }
   ],
   "source": [
    "import os\n",
    "os.path.splitext(string)\n"
   ]
  },
  {
   "cell_type": "markdown",
   "id": "7f959d08",
   "metadata": {},
   "source": [
    "### 3.修改文件名"
   ]
  },
  {
   "cell_type": "code",
   "execution_count": 15,
   "id": "71b61e5c",
   "metadata": {},
   "outputs": [
    {
     "ename": "FileNotFoundError",
     "evalue": "[WinError 2] 系统找不到指定的文件。: 'old.xxx' -> 'new.lll'",
     "output_type": "error",
     "traceback": [
      "\u001b[1;31m---------------------------------------------------------------------------\u001b[0m",
      "\u001b[1;31mFileNotFoundError\u001b[0m                         Traceback (most recent call last)",
      "Cell \u001b[1;32mIn[15], line 5\u001b[0m\n\u001b[0;32m      2\u001b[0m old_name \u001b[38;5;241m=\u001b[39m \u001b[38;5;124m'\u001b[39m\u001b[38;5;124mold.xxx\u001b[39m\u001b[38;5;124m'\u001b[39m\n\u001b[0;32m      3\u001b[0m new_name \u001b[38;5;241m=\u001b[39m \u001b[38;5;124m'\u001b[39m\u001b[38;5;124mnew.lll\u001b[39m\u001b[38;5;124m'\u001b[39m\n\u001b[1;32m----> 5\u001b[0m \u001b[43mos\u001b[49m\u001b[38;5;241;43m.\u001b[39;49m\u001b[43mrename\u001b[49m\u001b[43m(\u001b[49m\u001b[43mold_name\u001b[49m\u001b[43m,\u001b[49m\u001b[43m \u001b[49m\u001b[43mnew_name\u001b[49m\u001b[43m)\u001b[49m\n",
      "\u001b[1;31mFileNotFoundError\u001b[0m: [WinError 2] 系统找不到指定的文件。: 'old.xxx' -> 'new.lll'"
     ]
    }
   ],
   "source": [
    "import os\n",
    "old_name = 'old.xxx'\n",
    "new_name = 'new.lll'\n",
    "\n",
    "os.rename(old_name, new_name)"
   ]
  },
  {
   "cell_type": "code",
   "execution_count": null,
   "id": "f2d0aeed",
   "metadata": {},
   "outputs": [],
   "source": []
  }
 ],
 "metadata": {
  "kernelspec": {
   "display_name": "Python 3 (ipykernel)",
   "language": "python",
   "name": "python3"
  },
  "language_info": {
   "codemirror_mode": {
    "name": "ipython",
    "version": 3
   },
   "file_extension": ".py",
   "mimetype": "text/x-python",
   "name": "python",
   "nbconvert_exporter": "python",
   "pygments_lexer": "ipython3",
   "version": "3.8.16"
  }
 },
 "nbformat": 4,
 "nbformat_minor": 5
}

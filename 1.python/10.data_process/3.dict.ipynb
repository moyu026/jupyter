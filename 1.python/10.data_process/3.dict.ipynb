{
 "cells": [
  {
   "cell_type": "markdown",
   "id": "c6296e2c",
   "metadata": {},
   "source": [
    "#### 1.在一个字典中嵌套另一个字典"
   ]
  },
  {
   "cell_type": "code",
   "execution_count": 1,
   "id": "cfedaba9",
   "metadata": {},
   "outputs": [
    {
     "name": "stdout",
     "output_type": "stream",
     "text": [
      "{'key1': 'value1', 'nested_dict': {'inner_key': 'inner_value'}}\n"
     ]
    }
   ],
   "source": [
    "# 创建两个字典\n",
    "outer_dict = {'key1': 'value1'}\n",
    "inner_dict = {'inner_key': 'inner_value'}\n",
    "\n",
    "# 将 inner_dict 嵌套到 outer_dict 中的某个键下\n",
    "outer_dict['nested_dict'] = inner_dict\n",
    "\n",
    "print(outer_dict)\n"
   ]
  },
  {
   "cell_type": "markdown",
   "id": "ce446561",
   "metadata": {},
   "source": [
    "#### 2.在一个字典中添加另一个字典的值"
   ]
  },
  {
   "cell_type": "markdown",
   "id": "9a14a880",
   "metadata": {},
   "source": [
    "- 使用update()方法\n",
    "    - 有相同的键时：会使用最新的字典 b 中 该 key 对应的 value 值。\n",
    "    - 有新的键时：会直接把字典 b 中的 key、value 加入到 a 中。"
   ]
  },
  {
   "cell_type": "code",
   "execution_count": 5,
   "id": "dd965371",
   "metadata": {},
   "outputs": [
    {
     "name": "stdout",
     "output_type": "stream",
     "text": [
      "{'a': 1, 'b': 2, 'c': 3, 'd': 4}\n"
     ]
    }
   ],
   "source": [
    "dict1 = {'a': 1, 'b': 2}\n",
    "dict2 = {'c': 3, 'd': 4}\n",
    "\n",
    "dict1.update(dict2)\n",
    "\n",
    "print(dict1)  # 输出合并后的字典\n"
   ]
  },
  {
   "cell_type": "code",
   "execution_count": 7,
   "id": "d0155b00",
   "metadata": {},
   "outputs": [
    {
     "name": "stdout",
     "output_type": "stream",
     "text": [
      "{1: 2, 3: 3, 2: 2}\n"
     ]
    }
   ],
   "source": [
    "a = {1: 2, 2: 2}\n",
    "b = {1: 1, 3: 3}\n",
    "b.update(a)\n",
    "print(b)"
   ]
  },
  {
   "cell_type": "markdown",
   "id": "1eb1498d",
   "metadata": {},
   "source": [
    "- 直接赋值"
   ]
  },
  {
   "cell_type": "code",
   "execution_count": 3,
   "id": "2335eee7",
   "metadata": {
    "scrolled": true
   },
   "outputs": [
    {
     "name": "stdout",
     "output_type": "stream",
     "text": [
      "{'a': 1, 'b': 2, 'c': 3, 'd': 4}\n"
     ]
    }
   ],
   "source": [
    "# 直接赋值\n",
    "dict1 = {'a': 1, 'b': 2}\n",
    "dict2 = {'c': 3, 'd': 4}\n",
    "\n",
    "dict_combined = {**dict1, **dict2}\n",
    "\n",
    "print(dict_combined)  # 输出合并后的字典\n"
   ]
  },
  {
   "cell_type": "markdown",
   "id": "7554b2c4",
   "metadata": {},
   "source": [
    "#### 3.遍历字典\n",
    "- 使用items()方法"
   ]
  },
  {
   "cell_type": "code",
   "execution_count": 4,
   "id": "efecb8f1",
   "metadata": {},
   "outputs": [
    {
     "name": "stdout",
     "output_type": "stream",
     "text": [
      "a 1\n",
      "b 2\n"
     ]
    }
   ],
   "source": [
    "dict1 = {'a': 1, 'b': 2}\n",
    "for k,v in dict1.items():\n",
    "    print(k,v)"
   ]
  },
  {
   "cell_type": "code",
   "execution_count": null,
   "id": "b13f51f4",
   "metadata": {},
   "outputs": [],
   "source": []
  }
 ],
 "metadata": {
  "kernelspec": {
   "display_name": "Python 3 (ipykernel)",
   "language": "python",
   "name": "python3"
  },
  "language_info": {
   "codemirror_mode": {
    "name": "ipython",
    "version": 3
   },
   "file_extension": ".py",
   "mimetype": "text/x-python",
   "name": "python",
   "nbconvert_exporter": "python",
   "pygments_lexer": "ipython3",
   "version": "3.8.16"
  }
 },
 "nbformat": 4,
 "nbformat_minor": 5
}

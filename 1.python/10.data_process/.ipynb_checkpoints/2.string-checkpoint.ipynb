{
 "cells": [
  {
   "cell_type": "markdown",
   "id": "47ddacc2",
   "metadata": {},
   "source": [
    "#### 1.查找子字符串在字符串中的位置"
   ]
  },
  {
   "cell_type": "code",
   "execution_count": 1,
   "id": "b9c4faf8",
   "metadata": {},
   "outputs": [],
   "source": [
    "import re"
   ]
  },
  {
   "cell_type": "code",
   "execution_count": 2,
   "id": "2f30ddea",
   "metadata": {},
   "outputs": [],
   "source": [
    "string = '0001_0a_883a_0.1.png'\n",
    "sub = '_'"
   ]
  },
  {
   "cell_type": "code",
   "execution_count": 5,
   "id": "eff03d69",
   "metadata": {},
   "outputs": [
    {
     "name": "stdout",
     "output_type": "stream",
     "text": [
      "<re.Match object; span=(4, 5), match='_'>\n",
      "<re.Match object; span=(7, 8), match='_'>\n",
      "<re.Match object; span=(12, 13), match='_'>\n"
     ]
    }
   ],
   "source": [
    "for substr in re.finditer(sub, string):\n",
    "    print(substr)"
   ]
  },
  {
   "cell_type": "code",
   "execution_count": 8,
   "id": "1f2092e9",
   "metadata": {},
   "outputs": [
    {
     "name": "stdout",
     "output_type": "stream",
     "text": [
      "4\n",
      "5\n",
      "7\n",
      "8\n",
      "12\n",
      "13\n"
     ]
    }
   ],
   "source": [
    "for substr in re.finditer(sub, string):\n",
    "    print(substr.start())  # 子字符串出现的起始索引\n",
    "    print(substr.end())    # 子字符串出现的中止索引"
   ]
  },
  {
   "cell_type": "code",
   "execution_count": 10,
   "id": "4a71b979",
   "metadata": {
    "scrolled": true
   },
   "outputs": [
    {
     "data": {
      "text/plain": [
       "[4, 7, 12]"
      ]
     },
     "execution_count": 10,
     "metadata": {},
     "output_type": "execute_result"
    }
   ],
   "source": [
    "# 列表生成式的方法输出子字符串出现的起始索引\n",
    "indx = [substr.start() for substr in re.finditer(sub, string)]\n",
    "indx"
   ]
  },
  {
   "cell_type": "code",
   "execution_count": null,
   "id": "77980efe",
   "metadata": {},
   "outputs": [],
   "source": []
  }
 ],
 "metadata": {
  "kernelspec": {
   "display_name": "Python 3 (ipykernel)",
   "language": "python",
   "name": "python3"
  },
  "language_info": {
   "codemirror_mode": {
    "name": "ipython",
    "version": 3
   },
   "file_extension": ".py",
   "mimetype": "text/x-python",
   "name": "python",
   "nbconvert_exporter": "python",
   "pygments_lexer": "ipython3",
   "version": "3.8.16"
  }
 },
 "nbformat": 4,
 "nbformat_minor": 5
}

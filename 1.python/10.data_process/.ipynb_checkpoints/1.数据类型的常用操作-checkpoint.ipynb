{
 "cells": [
  {
   "cell_type": "markdown",
   "id": "e7a36fad-7e01-4aba-9f89-9d19f3c4ebf8",
   "metadata": {},
   "source": [
    "#### 1.在一个for循环中遍历两个list"
   ]
  },
  {
   "cell_type": "code",
   "execution_count": 4,
   "id": "81b361a8-5723-4aac-88a2-9368f5be3f7b",
   "metadata": {},
   "outputs": [
    {
     "name": "stdout",
     "output_type": "stream",
     "text": [
      "1 a\n",
      "2 b\n",
      "3 c\n",
      "4 d\n"
     ]
    }
   ],
   "source": [
    "list1 = [1, 2, 3, 4]\n",
    "list2 = ['a', 'b', 'c', 'd', 'e']  # 没有配对的元素不会输出\n",
    "\n",
    "for item1, item2 in zip(list1, list2):\n",
    "    print(item1, item2)\n"
   ]
  },
  {
   "cell_type": "markdown",
   "id": "40099b70-c79f-462f-9aa6-c55ecb35c4d7",
   "metadata": {},
   "source": [
    "#### 2.输出一个list中的元素和对应的索引"
   ]
  },
  {
   "cell_type": "code",
   "execution_count": 5,
   "id": "e822fd8c-b8c3-4653-a7b7-33e874867da7",
   "metadata": {},
   "outputs": [
    {
     "name": "stdout",
     "output_type": "stream",
     "text": [
      "索引 0 对应的元素是: 苹果\n",
      "索引 1 对应的元素是: 橙子\n",
      "索引 2 对应的元素是: 香蕉\n",
      "索引 3 对应的元素是: 西瓜\n"
     ]
    }
   ],
   "source": [
    "my_list = ['苹果', '橙子', '香蕉', '西瓜']\n",
    "\n",
    "for index, element in enumerate(my_list):\n",
    "    print(f\"索引 {index} 对应的元素是: {element}\")\n"
   ]
  },
  {
   "cell_type": "markdown",
   "id": "c6296e2c",
   "metadata": {},
   "source": [
    "#### 3.在一个字典中嵌套另一个字典"
   ]
  },
  {
   "cell_type": "code",
   "execution_count": 1,
   "id": "cfedaba9",
   "metadata": {},
   "outputs": [
    {
     "name": "stdout",
     "output_type": "stream",
     "text": [
      "{'key1': 'value1', 'nested_dict': {'inner_key': 'inner_value'}}\n"
     ]
    }
   ],
   "source": [
    "# 创建两个字典\n",
    "outer_dict = {'key1': 'value1'}\n",
    "inner_dict = {'inner_key': 'inner_value'}\n",
    "\n",
    "# 将 inner_dict 嵌套到 outer_dict 中的某个键下\n",
    "outer_dict['nested_dict'] = inner_dict\n",
    "\n",
    "print(outer_dict)\n"
   ]
  },
  {
   "cell_type": "markdown",
   "id": "ce446561",
   "metadata": {},
   "source": [
    "#### 4.在一个字典中添加另一个字典的值\n"
   ]
  },
  {
   "cell_type": "markdown",
   "id": "9a14a880",
   "metadata": {},
   "source": [
    "- 使用update()方法\n",
    "    - 有相同的键时：会使用最新的字典 b 中 该 key 对应的 value 值。\n",
    "    - 有新的键时：会直接把字典 b 中的 key、value 加入到 a 中。"
   ]
  },
  {
   "cell_type": "code",
   "execution_count": 5,
   "id": "dd965371",
   "metadata": {},
   "outputs": [
    {
     "name": "stdout",
     "output_type": "stream",
     "text": [
      "{'a': 1, 'b': 2, 'c': 3, 'd': 4}\n"
     ]
    }
   ],
   "source": [
    "dict1 = {'a': 1, 'b': 2}\n",
    "dict2 = {'c': 3, 'd': 4}\n",
    "\n",
    "dict1.update(dict2)\n",
    "\n",
    "print(dict1)  # 输出合并后的字典\n"
   ]
  },
  {
   "cell_type": "code",
   "execution_count": 7,
   "id": "d0155b00",
   "metadata": {},
   "outputs": [
    {
     "name": "stdout",
     "output_type": "stream",
     "text": [
      "{1: 2, 3: 3, 2: 2}\n"
     ]
    }
   ],
   "source": [
    "a = {1: 2, 2: 2}\n",
    "b = {1: 1, 3: 3}\n",
    "b.update(a)\n",
    "print(b)"
   ]
  },
  {
   "cell_type": "markdown",
   "id": "1eb1498d",
   "metadata": {},
   "source": [
    "- 直接赋值"
   ]
  },
  {
   "cell_type": "code",
   "execution_count": 3,
   "id": "2335eee7",
   "metadata": {},
   "outputs": [
    {
     "name": "stdout",
     "output_type": "stream",
     "text": [
      "{'a': 1, 'b': 2, 'c': 3, 'd': 4}\n"
     ]
    }
   ],
   "source": [
    "# 直接赋值\n",
    "dict1 = {'a': 1, 'b': 2}\n",
    "dict2 = {'c': 3, 'd': 4}\n",
    "\n",
    "dict_combined = {**dict1, **dict2}\n",
    "\n",
    "print(dict_combined)  # 输出合并后的字典\n"
   ]
  },
  {
   "cell_type": "code",
   "execution_count": null,
   "id": "7fc17557",
   "metadata": {},
   "outputs": [],
   "source": []
  }
 ],
 "metadata": {
  "kernelspec": {
   "display_name": "Python 3 (ipykernel)",
   "language": "python",
   "name": "python3"
  },
  "language_info": {
   "codemirror_mode": {
    "name": "ipython",
    "version": 3
   },
   "file_extension": ".py",
   "mimetype": "text/x-python",
   "name": "python",
   "nbconvert_exporter": "python",
   "pygments_lexer": "ipython3",
   "version": "3.8.16"
  }
 },
 "nbformat": 4,
 "nbformat_minor": 5
}

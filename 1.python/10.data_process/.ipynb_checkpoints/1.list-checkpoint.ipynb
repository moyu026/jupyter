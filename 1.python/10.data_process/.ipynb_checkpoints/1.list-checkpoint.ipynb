{
 "cells": [
  {
   "cell_type": "markdown",
   "id": "e7a36fad-7e01-4aba-9f89-9d19f3c4ebf8",
   "metadata": {},
   "source": [
    "#### 1.在一个for循环中遍历两个list"
   ]
  },
  {
   "cell_type": "code",
   "execution_count": 4,
   "id": "81b361a8-5723-4aac-88a2-9368f5be3f7b",
   "metadata": {},
   "outputs": [
    {
     "name": "stdout",
     "output_type": "stream",
     "text": [
      "1 a\n",
      "2 b\n",
      "3 c\n",
      "4 d\n"
     ]
    }
   ],
   "source": [
    "list1 = [1, 2, 3, 4]\n",
    "list2 = ['a', 'b', 'c', 'd', 'e']  # 没有配对的元素不会输出\n",
    "\n",
    "for item1, item2 in zip(list1, list2):\n",
    "    print(item1, item2)\n"
   ]
  },
  {
   "cell_type": "markdown",
   "id": "40099b70-c79f-462f-9aa6-c55ecb35c4d7",
   "metadata": {},
   "source": [
    "#### 2.输出一个list中的元素和对应的索引"
   ]
  },
  {
   "cell_type": "code",
   "execution_count": 5,
   "id": "e822fd8c-b8c3-4653-a7b7-33e874867da7",
   "metadata": {
    "scrolled": true
   },
   "outputs": [
    {
     "name": "stdout",
     "output_type": "stream",
     "text": [
      "索引 0 对应的元素是: 苹果\n",
      "索引 1 对应的元素是: 橙子\n",
      "索引 2 对应的元素是: 香蕉\n",
      "索引 3 对应的元素是: 西瓜\n"
     ]
    }
   ],
   "source": [
    "my_list = ['苹果', '橙子', '香蕉', '西瓜']\n",
    "\n",
    "for index, element in enumerate(my_list):\n",
    "    print(f\"索引 {index} 对应的元素是: {element}\")\n"
   ]
  },
  {
   "cell_type": "code",
   "execution_count": null,
   "id": "a9269528",
   "metadata": {},
   "outputs": [],
   "source": [
    "#### 1.在一个for循环中遍历两个list\n",
    "\n",
    "list1 = [1, 2, 3, 4]\n",
    "list2 = ['a', 'b', 'c', 'd', 'e']  # 没有配对的元素不会输出\n",
    "\n",
    "for item1, item2 in zip(list1, list2):\n",
    "    print(item1, item2)\n",
    "\n",
    "\n",
    "#### 2.输出一个list中的元素和对应的索引\n",
    "\n",
    "my_list = ['苹果', '橙子', '香蕉', '西瓜']\n",
    "\n",
    "for index, element in enumerate(my_list):\n",
    "    print(f\"索引 {index} 对应的元素是: {element}\")\n"
   ]
  }
 ],
 "metadata": {
  "kernelspec": {
   "display_name": "Python 3 (ipykernel)",
   "language": "python",
   "name": "python3"
  },
  "language_info": {
   "codemirror_mode": {
    "name": "ipython",
    "version": 3
   },
   "file_extension": ".py",
   "mimetype": "text/x-python",
   "name": "python",
   "nbconvert_exporter": "python",
   "pygments_lexer": "ipython3",
   "version": "3.8.16"
  }
 },
 "nbformat": 4,
 "nbformat_minor": 5
}

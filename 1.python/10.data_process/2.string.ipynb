{
 "cells": [
  {
   "cell_type": "markdown",
   "id": "47ddacc2",
   "metadata": {},
   "source": [
    "#### 1.查找子字符串在字符串中的位置"
   ]
  },
  {
   "cell_type": "code",
   "execution_count": 1,
   "id": "b9c4faf8",
   "metadata": {},
   "outputs": [],
   "source": [
    "import re"
   ]
  },
  {
   "cell_type": "code",
   "execution_count": 2,
   "id": "2f30ddea",
   "metadata": {},
   "outputs": [],
   "source": [
    "string = '0001_0a_883a_0.1.png'\n",
    "sub = '_'"
   ]
  },
  {
   "cell_type": "code",
   "execution_count": 5,
   "id": "eff03d69",
   "metadata": {},
   "outputs": [
    {
     "name": "stdout",
     "output_type": "stream",
     "text": [
      "<re.Match object; span=(4, 5), match='_'>\n",
      "<re.Match object; span=(7, 8), match='_'>\n",
      "<re.Match object; span=(12, 13), match='_'>\n"
     ]
    }
   ],
   "source": [
    "for substr in re.finditer(sub, string):\n",
    "    print(substr)"
   ]
  },
  {
   "cell_type": "code",
   "execution_count": 8,
   "id": "1f2092e9",
   "metadata": {},
   "outputs": [
    {
     "name": "stdout",
     "output_type": "stream",
     "text": [
      "4\n",
      "5\n",
      "7\n",
      "8\n",
      "12\n",
      "13\n"
     ]
    }
   ],
   "source": [
    "for substr in re.finditer(sub, string):\n",
    "    print(substr.start())  # 子字符串出现的起始索引\n",
    "    print(substr.end())    # 子字符串出现的中止索引"
   ]
  },
  {
   "cell_type": "code",
   "execution_count": 10,
   "id": "4a71b979",
   "metadata": {
    "scrolled": true
   },
   "outputs": [
    {
     "data": {
      "text/plain": [
       "[4, 7, 12]"
      ]
     },
     "execution_count": 10,
     "metadata": {},
     "output_type": "execute_result"
    }
   ],
   "source": [
    "# 列表生成式的方法输出子字符串出现的起始索引\n",
    "indx = [substr.start() for substr in re.finditer(sub, string)]\n",
    "indx"
   ]
  },
  {
   "cell_type": "markdown",
   "id": "a256b88c",
   "metadata": {},
   "source": [
    "#### 2. 移除字符串两端（开头和结尾）的指定字符\n",
    "- `str.strip([chars])`\n",
    "- str：要处理的字符串。\n",
    "- chars（可选参数）：指定想要从字符串两端去除的字符集合。如果不指定，则默认去除空白字符。\n"
   ]
  },
  {
   "cell_type": "code",
   "execution_count": 1,
   "id": "4a0baacb",
   "metadata": {},
   "outputs": [
    {
     "name": "stdout",
     "output_type": "stream",
     "text": [
      "#...Hello, World!\n"
     ]
    }
   ],
   "source": [
    "s = \"#...Hello, World!...\"\n",
    "s_stripped = s.strip('.')\n",
    "print(s_stripped) "
   ]
  },
  {
   "cell_type": "markdown",
   "id": "22b3bfe7",
   "metadata": {},
   "source": [
    "#### 3.获取文件名和文件名后缀\n",
    "- `os.path.splitext()`\n"
   ]
  },
  {
   "cell_type": "code",
   "execution_count": 2,
   "id": "07762065",
   "metadata": {},
   "outputs": [
    {
     "name": "stdout",
     "output_type": "stream",
     "text": [
      "./example .txt\n"
     ]
    }
   ],
   "source": [
    "import os\n",
    "\n",
    "# 假设 file_path 是你的文件路径\n",
    "file_path = \"./example.txt\"\n",
    "filename, file_extension = os.path.splitext(file_path)\n",
    "print(filename, file_extension)  # 输出 \".txt\""
   ]
  },
  {
   "cell_type": "code",
   "execution_count": null,
   "id": "c34e4932",
   "metadata": {},
   "outputs": [],
   "source": []
  }
 ],
 "metadata": {
  "kernelspec": {
   "display_name": "Python 3 (ipykernel)",
   "language": "python",
   "name": "python3"
  },
  "language_info": {
   "codemirror_mode": {
    "name": "ipython",
    "version": 3
   },
   "file_extension": ".py",
   "mimetype": "text/x-python",
   "name": "python",
   "nbconvert_exporter": "python",
   "pygments_lexer": "ipython3",
   "version": "3.8.16"
  }
 },
 "nbformat": 4,
 "nbformat_minor": 5
}

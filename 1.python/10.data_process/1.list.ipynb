{
 "cells": [
  {
   "cell_type": "markdown",
   "id": "e7a36fad-7e01-4aba-9f89-9d19f3c4ebf8",
   "metadata": {},
   "source": [
    "#### 1.在一个for循环中遍历两个list"
   ]
  },
  {
   "cell_type": "code",
   "execution_count": 1,
   "id": "81b361a8-5723-4aac-88a2-9368f5be3f7b",
   "metadata": {},
   "outputs": [
    {
     "name": "stdout",
     "output_type": "stream",
     "text": [
      "1 a\n",
      "6 b\n",
      "2 c\n",
      "4 d\n"
     ]
    }
   ],
   "source": [
    "list1 = [1, 6, 2, 4]\n",
    "list2 = ['a', 'b', 'c', 'd', 'e']  # 没有配对的元素不会输出\n",
    "\n",
    "for item1, item2 in zip(list1, list2):\n",
    "    print(item1, item2)\n"
   ]
  },
  {
   "cell_type": "markdown",
   "id": "40099b70-c79f-462f-9aa6-c55ecb35c4d7",
   "metadata": {},
   "source": [
    "#### 2.输出一个list中的元素和对应的索引"
   ]
  },
  {
   "cell_type": "code",
   "execution_count": 2,
   "id": "e822fd8c-b8c3-4653-a7b7-33e874867da7",
   "metadata": {
    "scrolled": true
   },
   "outputs": [
    {
     "name": "stdout",
     "output_type": "stream",
     "text": [
      "索引 0 对应的元素是: 苹果\n",
      "索引 1 对应的元素是: 橙子\n",
      "索引 2 对应的元素是: 香蕉\n",
      "索引 3 对应的元素是: 西瓜\n"
     ]
    }
   ],
   "source": [
    "my_list = ['苹果', '橙子', '香蕉', '西瓜']\n",
    "\n",
    "for index, element in enumerate(my_list):\n",
    "    print(f\"索引 {index} 对应的元素是: {element}\")\n"
   ]
  },
  {
   "cell_type": "code",
   "execution_count": 3,
   "id": "a9269528",
   "metadata": {},
   "outputs": [
    {
     "name": "stdout",
     "output_type": "stream",
     "text": [
      "1 a\n",
      "2 b\n",
      "3 c\n",
      "4 d\n",
      "索引 0 对应的元素是: 苹果\n",
      "索引 1 对应的元素是: 橙子\n",
      "索引 2 对应的元素是: 香蕉\n",
      "索引 3 对应的元素是: 西瓜\n"
     ]
    }
   ],
   "source": [
    "#### 1.在一个for循环中遍历两个list\n",
    "\n",
    "list1 = [1, 2, 3, 4]\n",
    "list2 = ['a', 'b', 'c', 'd', 'e']  # 没有配对的元素不会输出\n",
    "\n",
    "for item1, item2 in zip(list1, list2):\n",
    "    print(item1, item2)\n",
    "\n",
    "\n",
    "#### 2.输出一个list中的元素和对应的索引\n",
    "\n",
    "my_list = ['苹果', '橙子', '香蕉', '西瓜']\n",
    "\n",
    "for index, element in enumerate(my_list):\n",
    "    print(f\"索引 {index} 对应的元素是: {element}\")\n"
   ]
  },
  {
   "cell_type": "markdown",
   "id": "10598ee3",
   "metadata": {},
   "source": [
    "#### 3.按大列表中列表的某个位置元素排序大列表"
   ]
  },
  {
   "cell_type": "code",
   "execution_count": 4,
   "id": "b6e52b83",
   "metadata": {},
   "outputs": [
    {
     "name": "stdout",
     "output_type": "stream",
     "text": [
      "[[0.16671224 0.1919749  0.88104686]\n",
      " [0.44677965 0.7258295  0.19093829]\n",
      " [0.89812016 0.47612061 0.53756458]\n",
      " [0.92582971 0.42392845 0.62208653]]\n"
     ]
    }
   ],
   "source": [
    "import numpy as np\n",
    "random_matrix = np.random.rand(4, 3)\n",
    "print(random_matrix)"
   ]
  },
  {
   "cell_type": "code",
   "execution_count": 5,
   "id": "0af64802",
   "metadata": {},
   "outputs": [
    {
     "data": {
      "text/plain": [
       "[array([0.16671224, 0.1919749 , 0.88104686]),\n",
       " array([0.44677965, 0.7258295 , 0.19093829]),\n",
       " array([0.89812016, 0.47612061, 0.53756458]),\n",
       " array([0.92582971, 0.42392845, 0.62208653])]"
      ]
     },
     "execution_count": 5,
     "metadata": {},
     "output_type": "execute_result"
    }
   ],
   "source": [
    "sorted_matrix = sorted(random_matrix, key=lambda x: x[0]) # 按小列表中的第一个元素排序整个列表\n",
    "sorted_matrix"
   ]
  },
  {
   "cell_type": "markdown",
   "id": "a35b5936",
   "metadata": {},
   "source": [
    "#### 4.在循环中往list添加元素，循环结束后再清空list"
   ]
  },
  {
   "cell_type": "code",
   "execution_count": 1,
   "id": "8e19becd",
   "metadata": {},
   "outputs": [
    {
     "name": "stdout",
     "output_type": "stream",
     "text": [
      "After loop:  [0, 2, 4, 6, 8, 10, 12, 14, 16, 18]\n",
      "After clearing:  []\n"
     ]
    }
   ],
   "source": [
    "# 初始化一个空列表\n",
    "my_list = []\n",
    "\n",
    "# 假设我们正在进行某种循环操作\n",
    "for i in range(10):\n",
    "    # 往列表中添加元素\n",
    "    my_list.append(i * 2)\n",
    "\n",
    "# 循环结束，此时my_list中已经包含了循环内添加的所有元素\n",
    "print(\"After loop: \", my_list)\n",
    "\n",
    "# 清空列表\n",
    "my_list.clear()\n",
    "\n",
    "# 现在my_list为空\n",
    "print(\"After clearing: \", my_list)"
   ]
  },
  {
   "cell_type": "markdown",
   "id": "da60315b",
   "metadata": {},
   "source": [
    "#### 5.统计list中每个元素出现的次数\n",
    "- collections.Counter：统计元素数量，然后计数并返回一个字典，键为元素，值为元素个数。"
   ]
  },
  {
   "cell_type": "code",
   "execution_count": 2,
   "id": "c98e3742",
   "metadata": {},
   "outputs": [
    {
     "name": "stdout",
     "output_type": "stream",
     "text": [
      "Counter({2: 3, 1: 2, 5: 2, 3: 1, 7: 1, 8: 1, 9: 1, 4: 1})\n"
     ]
    }
   ],
   "source": [
    "from collections import Counter\n",
    "\n",
    "def count_element_occurrences(lst):\n",
    "    counter = Counter(lst)\n",
    "    return counter\n",
    "\n",
    "# 示例用法\n",
    "my_list = [1, 2, 3, 2, 7, 8, 9, 1, 2, 4, 5, 5]\n",
    "element_counts = count_element_occurrences(my_list)\n",
    "print(element_counts)"
   ]
  },
  {
   "cell_type": "markdown",
   "id": "b397d09f",
   "metadata": {},
   "source": [
    "#### 6.list中同时添加多个元素\n",
    "- extend()"
   ]
  },
  {
   "cell_type": "code",
   "execution_count": 3,
   "id": "dab000f0",
   "metadata": {},
   "outputs": [
    {
     "name": "stdout",
     "output_type": "stream",
     "text": [
      "[1, 2, 3, 4, 5, 6]\n"
     ]
    }
   ],
   "source": [
    "# Initial list\n",
    "numbers = [1, 2, 3]\n",
    "\n",
    "# Another iterable (list)\n",
    "a=4\n",
    "b=5\n",
    "c=6\n",
    "\n",
    "# Extend the initial list with the contents of the other iterable\n",
    "numbers.extend([a,b,c])\n",
    "\n",
    "# Now numbers is [1, 2, 3, 4, 5, 6]\n",
    "print(numbers)"
   ]
  },
  {
   "cell_type": "code",
   "execution_count": 6,
   "id": "4e3eb5f3",
   "metadata": {},
   "outputs": [
    {
     "name": "stdout",
     "output_type": "stream",
     "text": [
      "[[3, 4]]\n"
     ]
    }
   ],
   "source": [
    "a = []\n",
    "a.append([3,4])\n",
    "print(a)"
   ]
  },
  {
   "cell_type": "code",
   "execution_count": null,
   "id": "03ef43a5",
   "metadata": {},
   "outputs": [],
   "source": []
  }
 ],
 "metadata": {
  "kernelspec": {
   "display_name": "Python 3 (ipykernel)",
   "language": "python",
   "name": "python3"
  },
  "language_info": {
   "codemirror_mode": {
    "name": "ipython",
    "version": 3
   },
   "file_extension": ".py",
   "mimetype": "text/x-python",
   "name": "python",
   "nbconvert_exporter": "python",
   "pygments_lexer": "ipython3",
   "version": "3.8.16"
  }
 },
 "nbformat": 4,
 "nbformat_minor": 5
}

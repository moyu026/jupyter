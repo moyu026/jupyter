{
 "cells": [
  {
   "cell_type": "code",
   "execution_count": 1,
   "id": "9fcfa5e8",
   "metadata": {},
   "outputs": [],
   "source": [
    "import re"
   ]
  },
  {
   "cell_type": "markdown",
   "id": "4f063830",
   "metadata": {},
   "source": [
    "#### 1. 点-匹配任意单个字符\n",
    "- . 表示要匹配除了 换行符 之外的任何 `单个` 字符。"
   ]
  },
  {
   "cell_type": "code",
   "execution_count": 2,
   "id": "acb5393b",
   "metadata": {},
   "outputs": [
    {
     "name": "stdout",
     "output_type": "stream",
     "text": [
      "绿色\n",
      "橙色\n",
      "黄色\n",
      "黑色\n"
     ]
    }
   ],
   "source": [
    "# 找到所有 以 色 结尾，并且包括前面的一个字符的 词语\n",
    "content = '''苹果是绿色的\n",
    "橙子是橙色的\n",
    "香蕉是黄色的\n",
    "乌鸦是黑色的'''\n",
    "\n",
    "\n",
    "p = re.compile(r'.色')\n",
    "for one in  p.findall(content):\n",
    "    print(one)"
   ]
  },
  {
   "cell_type": "markdown",
   "id": "4e92dfb6",
   "metadata": {},
   "source": [
    "#### 2. 星号-重复匹配任意次\n",
    "- 当 * 跟在一个字符、字符集（[]）或者子表达式之后时，表示这个字符或子表达式可以重复任意次数，包括0次。\n",
    "- a* 匹配任何包含0个或多个连续 'a' 的字符串，如 '', 'a', 'aa', 'aaa', ...\n",
    "- [abc]* 匹配任何由'a'、'b'或'c'重复任意次数组成的字符串，如 '', 'a', 'ab', 'abc', 'cba', ..."
   ]
  },
  {
   "cell_type": "code",
   "execution_count": 6,
   "id": "26dbf442",
   "metadata": {},
   "outputs": [
    {
     "name": "stdout",
     "output_type": "stream",
     "text": [
      "，是\n",
      "，是\n",
      "，是\n",
      "，是\n"
     ]
    }
   ],
   "source": [
    "content = '''苹果，是绿色的\n",
    "橙子，是橙色的\n",
    "香蕉，是黄色的\n",
    "乌鸦，是黑色的\n",
    "猴子，'''\n",
    "\n",
    "p = re.compile(r'，.')\n",
    "for one in  p.findall(content):\n",
    "    print(one)"
   ]
  },
  {
   "cell_type": "code",
   "execution_count": 7,
   "id": "52324a67",
   "metadata": {},
   "outputs": [
    {
     "name": "stdout",
     "output_type": "stream",
     "text": [
      "，是绿色的\n",
      "，是橙色的\n",
      "，是黄色的\n",
      "，是黑色的\n",
      "，\n"
     ]
    }
   ],
   "source": [
    "# 逗号后面的 所有字符，包括逗号\n",
    "content = '''苹果，是绿色的\n",
    "橙子，是橙色的\n",
    "香蕉，是黄色的\n",
    "乌鸦，是黑色的\n",
    "猴子，'''\n",
    "\n",
    "p = re.compile(r'，.*')\n",
    "for one in  p.findall(content):\n",
    "    print(one)"
   ]
  },
  {
   "cell_type": "markdown",
   "id": "30d07898",
   "metadata": {},
   "source": [
    "#### 3.加号-重复匹配多次\n",
    "- 表示前面的表达式必须至少出现一次，并且可以重复多次。\n",
    "- a+：匹配包含一个或多个连续 'a' 的字符串，如 'a', 'aa', 'aaa', ...\n",
    "- [0-9]+：匹配一个或多个连续的数字字符，如 '123', '45678', '0', ..."
   ]
  },
  {
   "cell_type": "code",
   "execution_count": 10,
   "id": "545d719c",
   "metadata": {},
   "outputs": [
    {
     "name": "stdout",
     "output_type": "stream",
     "text": [
      "，是绿色的\n",
      "，是橙色的\n",
      "，是黄色的\n",
      "，是黑色的\n"
     ]
    }
   ],
   "source": [
    "# 选择每行逗号后面的字符串内容，包括逗号本身。\n",
    "content = '''苹果，是绿色的\n",
    "橙子，是橙色的\n",
    "香蕉，是黄色的\n",
    "乌鸦，是黑色的\n",
    "猴子，'''\n",
    "\n",
    "p = re.compile(r'，.+')\n",
    "for one in  p.findall(content):\n",
    "    print(one)"
   ]
  },
  {
   "cell_type": "markdown",
   "id": "34abf466",
   "metadata": {},
   "source": [
    "#### 4.问号-匹配0-1次\n",
    "- 表示前面的元素出现0次或1次\n",
    "- a? 匹配 'a' 或空字符串\n",
    "- (abc)? 匹配 'abc' 或空字符串。"
   ]
  },
  {
   "cell_type": "code",
   "execution_count": 12,
   "id": "3a0f2ff3",
   "metadata": {},
   "outputs": [
    {
     "name": "stdout",
     "output_type": "stream",
     "text": [
      "，是\n",
      "，是\n",
      "，是\n",
      "，是\n",
      "，\n"
     ]
    }
   ],
   "source": [
    "content = '''苹果，是绿色的\n",
    "橙子，是橙色的\n",
    "香蕉，是黄色的\n",
    "乌鸦，是黑色的\n",
    "猴子，'''\n",
    "\n",
    "p = re.compile(r'，.?')\n",
    "for one in  p.findall(content):\n",
    "    print(one)"
   ]
  },
  {
   "cell_type": "markdown",
   "id": "7ed1d700",
   "metadata": {},
   "source": [
    "#### 5.花括号-匹配指定次数\n",
    "- {min,max} 用于指定前面的元素或字符集重复出现的次数范围,如果省略了 max，则表示匹配至少 min 次。\n",
    "- a{3}：匹配连续出现三次的 'a'，即 'aaa'。\n",
    "- a{2,4}：匹配连续出现2到4次的 'a'，可以匹配 'aa', 'aaa', 或 'aaaa'。\n",
    "- 0{5}：匹配连续出现五次的数字 '0'，如 '00000'。"
   ]
  },
  {
   "cell_type": "code",
   "execution_count": 14,
   "id": "28335984",
   "metadata": {},
   "outputs": [
    {
     "name": "stdout",
     "output_type": "stream",
     "text": [
      "油油\n",
      "油油油油\n"
     ]
    }
   ],
   "source": [
    "content = '''红彤彤，绿油油，黑乎乎，绿油油油油'''\n",
    "\n",
    "p = re.compile(r'油{2,4}')\n",
    "for one in  p.findall(content):\n",
    "    print(one)"
   ]
  },
  {
   "cell_type": "markdown",
   "id": "2ccd3ab4",
   "metadata": {},
   "source": [
    "#### 6. 贪婪模式和非贪婪模式\n",
    "- 在贪婪模式下，正则表达式的量词（如 *、+ 或 {n,m}）会尽可能多地匹配字符。这意味着它会尝试匹配最长的可能字符串片段，直到不能再匹配更多的字符为止。`在表达式 a.*b 中，当面对 \"abcdebc\" 这样的字符串时，贪婪模式会匹配整个 \"abcdebc\"，因为 .* 能够匹配到最长的前缀 \"abcde\" 后跟一个 'b'。`\n",
    "- 而在非贪婪模式下，同样类型的量词会尽可能少地匹配字符，即只要满足整体表达式的匹配条件就立即停止匹配更多的字符。`对于同样的表达式 a.*?b，非贪婪版本的 .*? 在遇到第一个 'b' 时就会停止匹配，因此它在 \"abcdebc\" 字符串中只会匹配到 \"ab\"。`"
   ]
  },
  {
   "cell_type": "code",
   "execution_count": 15,
   "id": "fed2884c",
   "metadata": {},
   "outputs": [
    {
     "name": "stdout",
     "output_type": "stream",
     "text": [
      "['<html><head><title>Title</title>']\n"
     ]
    }
   ],
   "source": [
    "# 贪婪模式\n",
    "source = '<html><head><title>Title</title>'\n",
    "\n",
    "p = re.compile(r'<.*>')\n",
    "\n",
    "print(p.findall(source))"
   ]
  },
  {
   "cell_type": "code",
   "execution_count": 16,
   "id": "f949258e",
   "metadata": {},
   "outputs": [
    {
     "name": "stdout",
     "output_type": "stream",
     "text": [
      "['<html>', '<head>', '<title>', '</title>']\n"
     ]
    }
   ],
   "source": [
    "# 非贪婪模式\n",
    "source = '<html><head><title>Title</title>'\n",
    "\n",
    "# 注意多出的问号\n",
    "p = re.compile(r'<.*?>')\n",
    "\n",
    "print(p.findall(source))"
   ]
  },
  {
   "cell_type": "code",
   "execution_count": null,
   "id": "f65c2563",
   "metadata": {},
   "outputs": [],
   "source": []
  }
 ],
 "metadata": {
  "celltoolbar": "原始单元格格式",
  "kernelspec": {
   "display_name": "Python 3 (ipykernel)",
   "language": "python",
   "name": "python3"
  },
  "language_info": {
   "codemirror_mode": {
    "name": "ipython",
    "version": 3
   },
   "file_extension": ".py",
   "mimetype": "text/x-python",
   "name": "python",
   "nbconvert_exporter": "python",
   "pygments_lexer": "ipython3",
   "version": "3.8.16"
  }
 },
 "nbformat": 4,
 "nbformat_minor": 5
}

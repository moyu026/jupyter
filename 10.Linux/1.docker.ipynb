{
 "cells": [
  {
   "cell_type": "markdown",
   "id": "7aea2ff3",
   "metadata": {},
   "source": [
    "#### 1.根据镜像创建docker\n",
    "- sudo docker run --name=liu --gpus all -t -p 8888:8888 -v /home/dir:/workspace nvcr.io/nvidia/pytorch:23.03-py3\n",
    "    - -t: 为容器重新分配一个伪输入终端\n",
    "    - -v: 将本地目录映射到docker的workspace目录下\n",
    "    - nvcr.io/nvidia/pytorch:23.03-py3： 镜像名称，本地不存在则自动下载"
   ]
  },
  {
   "cell_type": "markdown",
   "id": "5bb403d8",
   "metadata": {},
   "source": [
    "#### 2.docker常用命令\n",
    "   - 查看正在运行的docker: `docker ps`\n",
    "   - 查看所有的docker: `docker ps -a`\n",
    "   - 查看所有的镜像: `docker images`\n",
    "   - 删除镜像: `docker rmi 镜像名或镜像ID`  \n",
    "    <br>\n",
    "   - 开启docker: `docker start 容器ID或容器名`\n",
    "   - 进入docker：`docker attach 容器ID或容器名（退出后docker中止运行）`\n",
    "            `docker exec -it 容器ID或容器名 /bin/bash （退出后docker保持运行）`\n",
    "   - 停止docker: `docker stop 容器ID或容器名`\n",
    "   - 删除docker：`docker rm 容器ID或容器名`\n",
    "   - 复制主机文件到docker中: `docker cp 本地路径 容器ID或容器名:docker路径 `\n",
    "   - 复制docker文件到主机中: `docker cp  容器ID或容器名:docker路径 本地路径`  \n",
    "    <br>\n",
    "   - 把docker打包成镜像: `docker commit -a 'author' -m 'instruction' test image_test（test:docker名，image_test:保存的镜像名）`\n",
    "   - 把镜像保存成压缩包:  `docker save -o test_tar.tar image_test`\n",
    "   - 从压缩包读取镜像: `docker load -i test_tar.tar`\n"
   ]
  },
  {
   "cell_type": "code",
   "execution_count": null,
   "id": "b945889e",
   "metadata": {},
   "outputs": [],
   "source": []
  }
 ],
 "metadata": {
  "kernelspec": {
   "display_name": "Python 3 (ipykernel)",
   "language": "python",
   "name": "python3"
  },
  "language_info": {
   "codemirror_mode": {
    "name": "ipython",
    "version": 3
   },
   "file_extension": ".py",
   "mimetype": "text/x-python",
   "name": "python",
   "nbconvert_exporter": "python",
   "pygments_lexer": "ipython3",
   "version": "3.8.16"
  }
 },
 "nbformat": 4,
 "nbformat_minor": 5
}
